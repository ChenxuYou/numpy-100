{
 "cells": [
  {
   "cell_type": "markdown",
   "id": "6293cc50",
   "metadata": {},
   "source": [
    "# 100 numpy exercises\n",
    "\n",
    "This is a collection of exercises that have been collected in the numpy mailing list, on stack overflow\n",
    "and in the numpy documentation. The goal of this collection is to offer a quick reference for both old\n",
    "and new users but also to provide a set of exercises for those who teach.\n",
    "\n",
    "\n",
    "If you find an error or think you've a better way to solve some of them, feel\n",
    "free to open an issue at <https://github.com/rougier/numpy-100>."
   ]
  },
  {
   "cell_type": "markdown",
   "id": "a167c052",
   "metadata": {},
   "source": [
    "File automatically generated. See the documentation to update questions/answers/hints programmatically."
   ]
  },
  {
   "cell_type": "markdown",
   "id": "57fc0ee5",
   "metadata": {},
   "source": [
    "Run the `initialize.py` module, then for each question you can query the\n",
    "answer or an hint with `hint(n)` or `answer(n)` for `n` question number."
   ]
  },
  {
   "cell_type": "code",
   "execution_count": 1,
   "id": "3d46fba2",
   "metadata": {},
   "outputs": [],
   "source": [
    "%run initialise.py"
   ]
  },
  {
   "cell_type": "markdown",
   "id": "3c1222ff",
   "metadata": {},
   "source": [
    "#### 1. Import the numpy package under the name `np` (★☆☆)"
   ]
  },
  {
   "cell_type": "code",
   "execution_count": 2,
   "id": "f52e6a0b",
   "metadata": {},
   "outputs": [],
   "source": [
    "import numpy as np\n",
    "np.set_printoptions(precision=5)"
   ]
  },
  {
   "cell_type": "code",
   "execution_count": 3,
   "id": "3ccc3354",
   "metadata": {},
   "outputs": [],
   "source": [
    "import logging\n",
    "logging.basicConfig(filename = 'app.log', level=logging.INFO,\n",
    "                    format='%(asctime)s - %(levelname)s - %(message)s', force=True)\n",
    "logging.debug('This is a debug message...')\n",
    "logging.info('This is an info message.')\n",
    "logging.warning('This is a warning message!')\n",
    "logging.error('This is an error message!!')\n",
    "logging.critical('This is a critical message!!!')"
   ]
  },
  {
   "cell_type": "markdown",
   "id": "9d9f4753",
   "metadata": {},
   "source": [
    "#### 2. Print the numpy version and the configuration (★☆☆)"
   ]
  },
  {
   "cell_type": "code",
   "execution_count": 4,
   "id": "b7fa5fa1",
   "metadata": {},
   "outputs": [
    {
     "name": "stdout",
     "output_type": "stream",
     "text": [
      "1.26.4\n"
     ]
    }
   ],
   "source": [
    "print(np.__version__)"
   ]
  },
  {
   "cell_type": "markdown",
   "id": "3e4c23c6",
   "metadata": {},
   "source": [
    "#### 3. Create a null vector of size 10 (★☆☆)"
   ]
  },
  {
   "cell_type": "code",
   "execution_count": 5,
   "id": "083c5c46",
   "metadata": {},
   "outputs": [
    {
     "name": "stdout",
     "output_type": "stream",
     "text": [
      "[0. 0. 0. 0. 0. 0. 0. 0. 0. 0.] [0 0 0 0 0 0 0 0 0 0]\n"
     ]
    }
   ],
   "source": [
    "arr1 = np.zeros(10)\n",
    "arr2 = np.zeros(10, dtype=np.int32)\n",
    "print(arr1, arr2)"
   ]
  },
  {
   "cell_type": "markdown",
   "id": "c38bbe82",
   "metadata": {},
   "source": [
    "#### 4. How to find the memory size of any array (★☆☆)"
   ]
  },
  {
   "cell_type": "code",
   "execution_count": 6,
   "id": "02b04021",
   "metadata": {},
   "outputs": [
    {
     "name": "stdout",
     "output_type": "stream",
     "text": [
      "(10,) 10 8 80\n",
      "(10,) 10 4 40\n",
      "(2, 3, 4) 24 8 192\n"
     ]
    }
   ],
   "source": [
    "print(arr1.shape, arr1.size, arr1.itemsize, arr1.nbytes)\n",
    "print(arr2.shape, arr2.size, arr2.itemsize, arr2.nbytes)\n",
    "# shape: dimensions of the array\n",
    "# size: total numbers of elements\n",
    "# itemsize: size of each element in bytes\n",
    "# nbytes: total size in bytes\n",
    "arr3 = np.zeros((2, 3, 4), dtype=np.float64)\n",
    "print(arr3.shape, arr3.size, arr3.itemsize, arr3.nbytes)"
   ]
  },
  {
   "cell_type": "markdown",
   "id": "67f893d4",
   "metadata": {},
   "source": [
    "#### 5. How to get the documentation of the numpy add function from the command line? (★☆☆)"
   ]
  },
  {
   "cell_type": "code",
   "execution_count": 7,
   "id": "40e6b70d",
   "metadata": {},
   "outputs": [
    {
     "name": "stdout",
     "output_type": "stream",
     "text": [
      "add(x1, x2, /, out=None, *, where=True, casting='same_kind', order='K', dtype=None, subok=True[, signature, extobj])\n",
      "\n",
      "Add arguments element-wise.\n",
      "\n",
      "Parameters\n",
      "----------\n",
      "x1, x2 : array_like\n",
      "    The arrays to be added.\n",
      "    If ``x1.shape != x2.shape``, they must be broadcastable to a common\n",
      "    shape (which becomes the shape of the output).\n",
      "out : ndarray, None, or tuple of ndarray and None, optional\n",
      "    A location into which the result is stored. If provided, it must have\n",
      "    a shape that the inputs broadcast to. If not provided or None,\n",
      "    a freshly-allocated array is returned. A tuple (possible only as a\n",
      "    keyword argument) must have length equal to the number of outputs.\n",
      "where : array_like, optional\n",
      "    This condition is broadcast over the input. At locations where the\n",
      "    condition is True, the `out` array will be set to the ufunc result.\n",
      "    Elsewhere, the `out` array will retain its original value.\n",
      "    Note that if an uninitialized `out` array is created via the default\n",
      "    ``out=None``, locations within it where the condition is False will\n",
      "    remain uninitialized.\n",
      "**kwargs\n",
      "    For other keyword-only arguments, see the\n",
      "    :ref:`ufunc docs <ufuncs.kwargs>`.\n",
      "\n",
      "Returns\n",
      "-------\n",
      "add : ndarray or scalar\n",
      "    The sum of `x1` and `x2`, element-wise.\n",
      "    This is a scalar if both `x1` and `x2` are scalars.\n",
      "\n",
      "Notes\n",
      "-----\n",
      "Equivalent to `x1` + `x2` in terms of array broadcasting.\n",
      "\n",
      "Examples\n",
      "--------\n",
      ">>> np.add(1.0, 4.0)\n",
      "5.0\n",
      ">>> x1 = np.arange(9.0).reshape((3, 3))\n",
      ">>> x2 = np.arange(3.0)\n",
      ">>> np.add(x1, x2)\n",
      "array([[  0.,   2.,   4.],\n",
      "       [  3.,   5.,   7.],\n",
      "       [  6.,   8.,  10.]])\n",
      "\n",
      "The ``+`` operator can be used as a shorthand for ``np.add`` on ndarrays.\n",
      "\n",
      ">>> x1 = np.arange(9.0).reshape((3, 3))\n",
      ">>> x2 = np.arange(3.0)\n",
      ">>> x1 + x2\n",
      "array([[ 0.,  2.,  4.],\n",
      "       [ 3.,  5.,  7.],\n",
      "       [ 6.,  8., 10.]])\n"
     ]
    }
   ],
   "source": [
    "np.info(np.add)"
   ]
  },
  {
   "cell_type": "markdown",
   "id": "e0c739c6",
   "metadata": {},
   "source": [
    "#### 6. Create a null vector of size 10 but the fifth value which is 1 (★☆☆)"
   ]
  },
  {
   "cell_type": "code",
   "execution_count": 8,
   "id": "bcceacf7",
   "metadata": {},
   "outputs": [
    {
     "name": "stdout",
     "output_type": "stream",
     "text": [
      "[0. 0. 0. 0. 1. 0. 0. 0. 0. 0.]\n"
     ]
    }
   ],
   "source": [
    "arr4 = np.zeros(10)\n",
    "arr4[4] = 1\n",
    "print(arr4)"
   ]
  },
  {
   "cell_type": "markdown",
   "id": "fbebedab",
   "metadata": {},
   "source": [
    "#### 7. Create a vector with values ranging from 10 to 49 (★☆☆)"
   ]
  },
  {
   "cell_type": "code",
   "execution_count": 9,
   "id": "3d117d54",
   "metadata": {},
   "outputs": [
    {
     "name": "stdout",
     "output_type": "stream",
     "text": [
      "[10 11 12 13 14 15 16 17 18 19 20 21 22 23 24 25 26 27 28 29 30 31 32 33\n",
      " 34 35 36 37 38 39 40 41 42 43 44 45 46 47 48 49]\n"
     ]
    }
   ],
   "source": [
    "arr5 = np.arange(10, 50)\n",
    "print(arr5)"
   ]
  },
  {
   "cell_type": "markdown",
   "id": "ad0bff02",
   "metadata": {},
   "source": [
    "#### 8. Reverse a vector (first element becomes last) (★☆☆)"
   ]
  },
  {
   "cell_type": "code",
   "execution_count": 10,
   "id": "22d23470",
   "metadata": {},
   "outputs": [
    {
     "name": "stdout",
     "output_type": "stream",
     "text": [
      "[49 48 47 46 45 44 43 42 41 40 39 38 37 36 35 34 33 32 31 30 29 28 27 26\n",
      " 25 24 23 22 21 20 19 18 17 16 15 14 13 12 11 10] \n",
      "\n",
      "[49 48 47 46 45 44 43 42 41 40 39 38 37 36 35 34 33 32 31 30 29 28 27 26\n",
      " 25 24 23 22 21 20 19 18 17 16 15 14 13 12 11 10]\n"
     ]
    }
   ],
   "source": [
    "arr6 = arr5[::-1]\n",
    "arr7 = np.flip(arr5)\n",
    "print(arr6, \"\\n\")\n",
    "print(arr7)"
   ]
  },
  {
   "cell_type": "markdown",
   "id": "9f59d7e1",
   "metadata": {},
   "source": [
    "#### 9. Create a 3x3 matrix with values ranging from 0 to 8 (★☆☆)"
   ]
  },
  {
   "cell_type": "code",
   "execution_count": 11,
   "id": "7449e82d",
   "metadata": {},
   "outputs": [
    {
     "name": "stdout",
     "output_type": "stream",
     "text": [
      "[[0 1 2]\n",
      " [3 4 5]\n",
      " [6 7 8]]\n"
     ]
    }
   ],
   "source": [
    "arr8 = np.arange(9).reshape(3, 3)\n",
    "print(arr8)"
   ]
  },
  {
   "cell_type": "markdown",
   "id": "f374c4cf",
   "metadata": {},
   "source": [
    "#### 10. Find indices of non-zero elements from [1,2,0,0,4,0] (★☆☆)"
   ]
  },
  {
   "cell_type": "code",
   "execution_count": 12,
   "id": "1a84bed8",
   "metadata": {},
   "outputs": [
    {
     "name": "stdout",
     "output_type": "stream",
     "text": [
      "(array([0, 1, 4], dtype=int64),)\n"
     ]
    }
   ],
   "source": [
    "non_zero_indices = np.nonzero(np.array([1, 2, 0, 0, 4, 0]))\n",
    "print(non_zero_indices)"
   ]
  },
  {
   "cell_type": "markdown",
   "id": "9c4707f5",
   "metadata": {},
   "source": [
    "#### 11. Create a 3x3 identity matrix (★☆☆)"
   ]
  },
  {
   "cell_type": "code",
   "execution_count": 13,
   "id": "29dc1fd3",
   "metadata": {},
   "outputs": [
    {
     "name": "stdout",
     "output_type": "stream",
     "text": [
      "[[1. 0. 0.]\n",
      " [0. 1. 0.]\n",
      " [0. 0. 1.]]\n"
     ]
    }
   ],
   "source": [
    "arr9 = np.eye(3)\n",
    "print(arr9)"
   ]
  },
  {
   "cell_type": "markdown",
   "id": "3bac294a",
   "metadata": {},
   "source": [
    "#### 12. Create a 3x3x3 array with random values (★☆☆)"
   ]
  },
  {
   "cell_type": "code",
   "execution_count": 14,
   "id": "eadfae67",
   "metadata": {},
   "outputs": [
    {
     "name": "stdout",
     "output_type": "stream",
     "text": [
      "[[[0.39944 0.58503 0.65151]\n",
      "  [0.10813 0.9873  0.91592]\n",
      "  [0.62404 0.42858 0.67938]]\n",
      "\n",
      " [[0.43527 0.5016  0.74051]\n",
      "  [0.08327 0.32159 0.16551]\n",
      "  [0.81466 0.81085 0.41541]]\n",
      "\n",
      " [[0.37111 0.33001 0.35316]\n",
      "  [0.4006  0.84447 0.79432]\n",
      "  [0.38064 0.17188 0.84168]]]\n"
     ]
    }
   ],
   "source": [
    "arr10 = np.random.rand(3, 3, 3)\n",
    "print(arr10)"
   ]
  },
  {
   "cell_type": "markdown",
   "id": "466c2989",
   "metadata": {},
   "source": [
    "#### 13. Create a 10x10 array with random values and find the minimum and maximum values (★☆☆)"
   ]
  },
  {
   "cell_type": "code",
   "execution_count": 15,
   "id": "9a74dbfc",
   "metadata": {},
   "outputs": [
    {
     "name": "stdout",
     "output_type": "stream",
     "text": [
      "[[-1.18912e-01  4.54944e-01 -1.04555e+00 -2.44305e-01  8.96551e-01\n",
      "  -8.91608e-01 -1.49827e+00  5.07416e-01 -7.17532e-01 -1.72107e+00]\n",
      " [-1.96402e-01 -3.15029e-01 -4.34705e-01 -1.95567e-01 -1.11946e+00\n",
      "  -9.03821e-01 -1.15196e+00 -1.49271e-01 -4.32687e-01 -1.24021e+00]\n",
      " [ 1.08411e+00  9.10804e-01  1.60690e-01  7.51088e-01 -4.82779e-01\n",
      "  -1.43405e-01  4.80804e-01  7.16202e-01  1.08435e+00 -1.52978e+00]\n",
      " [ 1.41909e+00 -5.90643e-01  1.92940e+00  2.17839e+00  9.00462e-01\n",
      "   1.68879e+00  9.01038e-01  5.57159e-01  1.99603e-01  4.93504e-01]\n",
      " [-3.41961e-01 -1.60349e+00 -1.67107e+00  2.22194e-02  1.02332e+00\n",
      "   1.88828e+00  7.93017e-01 -5.44465e-01  1.94008e+00 -7.23609e-02]\n",
      " [-1.65130e+00  6.28950e-02  9.42206e-01  1.46709e+00 -1.16508e-01\n",
      "   4.91122e-01  9.15698e-01 -9.00677e-01 -1.15531e+00  1.30728e-01]\n",
      " [-5.28321e-01  1.13665e+00  2.35385e-01 -1.51494e+00  4.13210e-01\n",
      "  -2.07503e-03 -2.01256e-01 -1.43350e+00  1.13688e+00  3.50817e-03]\n",
      " [ 8.93469e-01  2.19896e+00 -7.67622e-01  5.39115e-01  4.83748e-01\n",
      "   2.75171e-02 -7.01139e-01  2.09706e+00 -7.84904e-01 -2.74406e-01]\n",
      " [ 1.07754e+00  5.63888e-01 -1.63293e+00 -5.18322e-01  7.28204e-01\n",
      "  -2.27999e+00  1.09990e+00  9.14602e-01 -9.14340e-01  8.50901e-01]\n",
      " [-1.78551e+00 -3.54219e-01  1.39156e+00  8.37570e-01 -9.82988e-01\n",
      "  -4.40843e-01 -4.83412e-01  1.00663e+00  2.42811e+00 -1.41961e+00]]\n",
      "-2.2799940740547924 85 2.4281082093497806 98\n"
     ]
    }
   ],
   "source": [
    "arr11 = np.random.randn(10, 10)\n",
    "print(arr11)\n",
    "min_value = np.min(arr11)\n",
    "min_value_idx = np.argmin(arr11)\n",
    "max_value = np.max(arr11)\n",
    "max_value_idx = np.argmax(arr11)\n",
    "print(min_value, min_value_idx, max_value, max_value_idx)"
   ]
  },
  {
   "cell_type": "markdown",
   "id": "53a8edb2",
   "metadata": {},
   "source": [
    "#### 14. Create a random vector of size 30 and find the mean value (★☆☆)"
   ]
  },
  {
   "cell_type": "code",
   "execution_count": 16,
   "id": "6691530b",
   "metadata": {},
   "outputs": [
    {
     "name": "stdout",
     "output_type": "stream",
     "text": [
      "[-0.98597  0.7681  -0.41535  0.67776  1.4889   0.3923  -0.44634  1.6468\n",
      " -0.51237 -0.37333 -0.62825  1.15321  0.47538  0.42872  0.46858 -0.39279\n",
      " -0.53427 -0.41786  1.71354 -0.61196  0.38799  0.62873  0.54442  1.44857\n",
      "  0.71976 -0.52372 -0.72813 -0.20478 -0.43404 -0.98628] \n",
      "the arithmetic average is 0.1582438686019768\n"
     ]
    }
   ],
   "source": [
    "arr12 = np.random.randn(30)\n",
    "arr12_mean = np.mean(arr12)\n",
    "print(arr12, \"\\nthe arithmetic average is\", arr12_mean)"
   ]
  },
  {
   "cell_type": "code",
   "execution_count": 17,
   "id": "46dee6d0",
   "metadata": {},
   "outputs": [
    {
     "name": "stdout",
     "output_type": "stream",
     "text": [
      "arr_0_dim is 4 \n",
      "type(arr_0_dim) is <class 'numpy.ndarray'> \n",
      "the shape of it is () \n",
      "the size of it is 1\n",
      "------------------------\n",
      "arr_1_dim is [4] \n",
      "type(arr_1_dim) is <class 'numpy.ndarray'> \n",
      "the shape of it is (1,) \n",
      "the size of it is 1\n",
      "------------------------\n",
      "arr_0_dim.item() is 4 \n",
      "the type: <class 'int'> \n",
      "arr_1_dim.item() is 4 \n",
      "the type: <class 'int'>\n"
     ]
    }
   ],
   "source": [
    "# An additional cell\n",
    "import torch\n",
    "arr_0_dim = np.array(4)\n",
    "print(\"arr_0_dim is\", arr_0_dim, \"\\ntype(arr_0_dim) is\", type(arr_0_dim),\n",
    "      \"\\nthe shape of it is\", arr_0_dim.shape, \"\\nthe size of it is\", arr_0_dim.size)\n",
    "# Note that in NumPy, shape and size are attributes, where shape indicates the dimensions of the array and size indicates the total number of elements in the array, while in PyTorch, both shape and .size() return the dimensions of the tensor.\n",
    "print(\"------------------------\")\n",
    "arr_1_dim = np.array([4])\n",
    "print(\"arr_1_dim is\", arr_1_dim, \"\\ntype(arr_1_dim) is\", type(arr_1_dim),\n",
    "      \"\\nthe shape of it is\", arr_1_dim.shape, \"\\nthe size of it is\", arr_1_dim.size)\n",
    "print(\"------------------------\")\n",
    "print(\"arr_0_dim.item() is\", arr_0_dim.item(), \"\\nthe type:\", type(\n",
    "    arr_0_dim.item()), \"\\narr_1_dim.item() is\", arr_1_dim.item(), \"\\nthe type:\", type(arr_1_dim.item()))"
   ]
  },
  {
   "cell_type": "code",
   "execution_count": 18,
   "id": "9f12c836",
   "metadata": {},
   "outputs": [
    {
     "name": "stdout",
     "output_type": "stream",
     "text": [
      "demonstrate the shape and .size() return the same result\n",
      "torch.Size([]) torch.Size([]) True\n",
      "torch.Size([1]) torch.Size([1]) True\n",
      "torch.Size([3]) torch.Size([3]) True\n",
      "torch.Size([2, 3]) torch.Size([2, 3]) True\n",
      "------------------------\n",
      "We typically denote a one-dimensional size as (dim,) \n",
      "to distinguish the tuple from a scalar value.\n",
      "------------------------\n",
      "========================\n",
      "t1 is tensor([1, 2, 3, 4]) \n",
      "the shape of t1 is torch.Size([4])\n",
      "========================\n",
      "t2 is\n",
      " tensor([[1],\n",
      "        [2],\n",
      "        [3],\n",
      "        [4]]) \n",
      "the shape of t2 is torch.Size([4, 1])\n",
      "========================\n",
      "a1 is [1 2 3 4] \n",
      "the shape of a1 is (4,)\n",
      "========================\n",
      "a2 is\n",
      " [[1]\n",
      " [2]\n",
      " [3]\n",
      " [4]] \n",
      "the shape of a2 is (4, 1)\n",
      "========================\n"
     ]
    }
   ],
   "source": [
    "import torch\n",
    "print(\"demonstrate the shape and .size() return the same result\")\n",
    "for i in (torch.tensor(3), torch.tensor([3]), torch.tensor([1, 2, 3]), torch.tensor([[1, 2, 3], [4, 5, 6]])):\n",
    "    print(i.shape, i.size(), i.shape == i.size())\n",
    "print(\"------------------------\")\n",
    "print(\"We typically denote a one-dimensional size as (dim,) \\nto distinguish the tuple from a scalar value.\")\n",
    "print(\"------------------------\")\n",
    "print(\"========================\")\n",
    "t1 = torch.tensor([1, 2, 3, 4])\n",
    "print(\"t1 is\", t1, \"\\nthe shape of t1 is\", t1.shape)\n",
    "print(\"========================\")\n",
    "t2 = torch.tensor([[1], [2], [3], [4]])\n",
    "print(\"t2 is\\n\", t2, \"\\nthe shape of t2 is\", t2.shape)\n",
    "print(\"========================\")\n",
    "a1 = np.array([1, 2, 3, 4])\n",
    "print(\"a1 is\", a1, \"\\nthe shape of a1 is\", a1.shape)\n",
    "print(\"========================\")\n",
    "a2 = np.array([[1], [2], [3], [4]])\n",
    "print(\"a2 is\\n\", a2, \"\\nthe shape of a2 is\", a2.shape)\n",
    "print(\"========================\")"
   ]
  },
  {
   "cell_type": "markdown",
   "id": "cbaad31c",
   "metadata": {},
   "source": [
    "#### 15. Create a 2d array with 1 on the border and 0 inside (★☆☆)"
   ]
  },
  {
   "cell_type": "code",
   "execution_count": 19,
   "id": "ad8308e3",
   "metadata": {},
   "outputs": [
    {
     "data": {
      "text/plain": [
       "array([[1, 1, 1, 1, 1, 1],\n",
       "       [1, 0, 0, 0, 0, 1],\n",
       "       [1, 0, 0, 0, 0, 1],\n",
       "       [1, 0, 0, 0, 0, 1],\n",
       "       [1, 0, 0, 0, 0, 1],\n",
       "       [1, 1, 1, 1, 1, 1]], dtype=int64)"
      ]
     },
     "execution_count": 19,
     "metadata": {},
     "output_type": "execute_result"
    }
   ],
   "source": [
    "row_, col_ = 6, 6\n",
    "arr14 = np.zeros((row_, col_), dtype=np.int64)\n",
    "arr14[0, :] = 1\n",
    "arr14[:, 0] = 1\n",
    "arr14[row_-1, :] = 1\n",
    "arr14[:, col_-1] = 1\n",
    "arr14"
   ]
  },
  {
   "cell_type": "markdown",
   "id": "c5ecc267",
   "metadata": {},
   "source": [
    "#### 16. How to add a border (filled with 0's) around an existing array? (★☆☆)"
   ]
  },
  {
   "cell_type": "code",
   "execution_count": 20,
   "id": "9d5c78c4",
   "metadata": {},
   "outputs": [
    {
     "name": "stdout",
     "output_type": "stream",
     "text": [
      "[[-0.78947 -0.10998 -1.17651]\n",
      " [ 0.38924  1.45668  0.76958]] \n",
      "\n",
      " [[ 0.       0.       0.       0.       0.     ]\n",
      " [ 0.      -0.78947 -0.10998 -1.17651  0.     ]\n",
      " [ 0.       0.38924  1.45668  0.76958  0.     ]\n",
      " [ 0.       0.       0.       0.       0.     ]]\n"
     ]
    }
   ],
   "source": [
    "arr15_ = np.random.randn(2, 3)\n",
    "arr15 = np.pad(arr15_, pad_width=1, mode='constant', constant_values=0)\n",
    "print(arr15_, '\\n\\n', arr15)"
   ]
  },
  {
   "cell_type": "markdown",
   "id": "ef909b72",
   "metadata": {},
   "source": [
    "#### 17. What is the result of the following expression? (★☆☆)\n",
    "```python\n",
    "0 * np.nan\n",
    "np.nan == np.nan\n",
    "np.inf > np.nan\n",
    "np.nan - np.nan\n",
    "np.nan in set([np.nan])\n",
    "0.3 == 3 * 0.1\n",
    "```"
   ]
  },
  {
   "cell_type": "code",
   "execution_count": 21,
   "id": "3b4985f2",
   "metadata": {},
   "outputs": [
    {
     "name": "stdout",
     "output_type": "stream",
     "text": [
      "the type of np.nan is <class 'float'>\n",
      "All operations and comparisions involving np.nan evaluate to False, \n",
      "with the exception of np.nan != np.nan, which evaluates to True.\n",
      "np.nan == np.nan False\n",
      "np.inf > np.nan False\n",
      "np.nan - np.nan nan\n",
      "np.nan != np.nan True\n",
      "np.isnan(np.nan) True\n",
      "np.nan in set([np.nan]) True\n",
      "0.10000000000000000555\n",
      "0.29999999999999998890\n",
      "0.30000000000000004441\n",
      "0.3 == 3 * 0.1 False\n"
     ]
    }
   ],
   "source": [
    "\"\"\"np.nan is a constant in NumPy that represents Not a Number.\"\"\"\n",
    "print(\"the type of np.nan is\", type(np.nan))\n",
    "\n",
    "print(\"All operations and comparisions involving np.nan evaluate to False, \\nwith the exception of np.nan != np.nan, which evaluates to True.\")\n",
    "print(\"np.nan == np.nan\", np.nan == np.nan)\n",
    "print(\"np.inf > np.nan\", np.inf > np.nan)\n",
    "print(\"np.nan - np.nan\", np.nan - np.nan)\n",
    "print(\"np.nan != np.nan\", np.nan != np.nan)\n",
    "print(\"np.isnan(np.nan)\", np.isnan(np.nan))\n",
    "print(\"np.nan in set([np.nan])\", np.nan in set([np.nan]))\n",
    "\n",
    "print(f\"{0.1:.20f}\")  # 0.10000000000000000555\n",
    "print(f\"{0.3:.20f}\")  # 0.29999999999999998890\n",
    "print(f\"{3*0.1:.20f}\")  # 0.30000000000000004441\n",
    "print(\"0.3 == 3 * 0.1\", 0.3 == 3 * 0.1)"
   ]
  },
  {
   "cell_type": "code",
   "execution_count": 22,
   "id": "ba11cbfe",
   "metadata": {},
   "outputs": [
    {
     "name": "stdout",
     "output_type": "stream",
     "text": [
      "[False False False  True  True  True  True] \n",
      " [ True  True False  True  True  True  True] \n",
      " [ True  True  True  True  True  True False] \n",
      "\n",
      "Final mask: [False False False  True  True  True False]\n",
      "Selected elements: [4. 5. 6.]\n"
     ]
    }
   ],
   "source": [
    "arr = np.array([1, 2, np.nan, 4, 5, 6, np.inf])\n",
    "condition1 = arr > 3\n",
    "condition2 = ~np.isnan(arr)\n",
    "condition3 = ~np.isinf(arr)\n",
    "print(condition1, '\\n', condition2, '\\n', condition3, '\\n')\n",
    "final_mask = condition1 & condition2 & condition3\n",
    "print(\"Final mask:\", final_mask)\n",
    "print(\"Selected elements:\", arr[final_mask])"
   ]
  },
  {
   "cell_type": "code",
   "execution_count": 23,
   "id": "1b181d5c",
   "metadata": {},
   "outputs": [
    {
     "name": "stdout",
     "output_type": "stream",
     "text": [
      "[ True  True  True] \n",
      " [ True  True False]\n",
      "---------\n",
      "[3 7 7] \n",
      " [0 2 0]\n"
     ]
    }
   ],
   "source": [
    "\"\"\"\n",
    "1. Comparison Operators (<, >, <=, >=, ==, !=):\n",
    "    ~ Behavior: These operators compare each element of an array/tensor to the corresponding element in another array/tensor **or to a scalar**.\n",
    "    ~ Result: They return an array/tensor of the same shape with boolean values (True or False), indicating the result of each comparison.\n",
    "2. Bitwise Operators (&, |, ^, ~):\n",
    "    ~ Behavior (Boolean Arrays): These operators perform **logical operations** on boolean arrays/tensors, acting as element-wise AND, OR, XOR, and NOT.\n",
    "    ~ Behavior (Integer Arrays): These operators perform **bitwise operations** on integer arrays/tensors, applying the operation to each bit of the binary representation of the integers.\n",
    "    ~ Result: The result is an array/tensor with the outcome of the operation applied element by element.\n",
    "3. NaN Checks (np.isnan, torch.isnan):\n",
    "    ~ Behavior: These functions check whether each element in an array/tensor is NaN (Not a Number).\n",
    "    ~ Result: They return a boolean array/tensor where True indicates the presence of NaN and False indicates a valid number.\n",
    "\"\"\"\n",
    "trial_arr_1 = np.array([True, True, False]) | True\n",
    "trial_arr_2 = np.array([True, True, False]) | np.array([True, True, False])\n",
    "print(trial_arr_1, \"\\n\", trial_arr_2)\n",
    "print(\"---------\")\n",
    "trial_arr_3 = np.array([3, 4, 5]) | 3\n",
    "# [3: 0011] [4: 0100] [5: 0110]\n",
    "# [3: 0011] [3: 0011] [3: 0011]\n",
    "# [0011]->3 [0111]->7 [0111]->7\n",
    "trial_arr_4 = np.array([1, 2, 3]) & np.array([2, 3, 4])\n",
    "# [1: 0001] [2: 0010] [3: 0011]\n",
    "# [2: 0010] [3: 0011] [4: 0100]\n",
    "# [0000]->0 [0010]->2 [0000]->0\n",
    "print(trial_arr_3, \"\\n\", trial_arr_4)"
   ]
  },
  {
   "cell_type": "code",
   "execution_count": 24,
   "id": "9eaf3602",
   "metadata": {},
   "outputs": [
    {
     "name": "stdout",
     "output_type": "stream",
     "text": [
      "[1 0 1 1 0 1 0]\n",
      "[0 0 0 0 0 0 0]\n",
      "[2 0 0 2 0 0 2]\n"
     ]
    }
   ],
   "source": [
    "trial_boo_int = np.array([3, 4, 5, 41662579, 41662580, 41662581, 41662582])\n",
    "print(trial_boo_int & True)  # True is 0000,0001 in memory\n",
    "print(trial_boo_int & False)  # False is 0000,0000 in memory\n",
    "print(trial_boo_int & 2)"
   ]
  },
  {
   "cell_type": "code",
   "execution_count": 25,
   "id": "0e4c41ae",
   "metadata": {},
   "outputs": [
    {
     "name": "stdout",
     "output_type": "stream",
     "text": [
      "10\n",
      "2\n",
      "[ 2  4  6  8 10]\n",
      "[0 1 1 2 2]\n"
     ]
    }
   ],
   "source": [
    "a = 5  # 0101 in binary\n",
    "print(a << 1)  # 10 (1010 in binary)\n",
    "print(a >> 1)  # 2 (0010 in binary)\n",
    "\n",
    "arr = np.array([1, 2, 3, 4, 5])\n",
    "# 1     2      3       4       5\n",
    "# 0001  0010   0011    0100    0101\n",
    "# 0010  0100   0110    1000    1010\n",
    "# 0000  0001   0001    0010    0010 \n",
    "print(arr << 1)  # [ 2  4  6  8 10]\n",
    "print(arr >> 1)  # [0 1 1 2 2]"
   ]
  },
  {
   "cell_type": "markdown",
   "id": "502738ac",
   "metadata": {},
   "source": [
    "#### 18. Create a 5x5 matrix with values 1,2,3,4 just below the diagonal (★☆☆)"
   ]
  },
  {
   "cell_type": "code",
   "execution_count": 26,
   "id": "faed6e2b",
   "metadata": {},
   "outputs": [
    {
     "name": "stdout",
     "output_type": "stream",
     "text": [
      "[[1 0 0 0]\n",
      " [0 2 0 0]\n",
      " [0 0 3 0]\n",
      " [0 0 0 4]] \n",
      "\n",
      "[[0 0 0 0 0]\n",
      " [1 0 0 0 0]\n",
      " [0 2 0 0 0]\n",
      " [0 0 3 0 0]\n",
      " [0 0 0 4 0]]\n"
     ]
    }
   ],
   "source": [
    "diag_array = np.array([1, 2, 3, 4])\n",
    "diag_matrix = np.diag(diag_array)\n",
    "diag_matrix_with_offset = np.diag(diag_array, k=-1)\n",
    "print(diag_matrix, \"\\n\")\n",
    "print(diag_matrix_with_offset)"
   ]
  },
  {
   "cell_type": "code",
   "execution_count": 27,
   "id": "480d8ea5",
   "metadata": {},
   "outputs": [
    {
     "name": "stdout",
     "output_type": "stream",
     "text": [
      "[1 2 3 4] <class 'numpy.ndarray'>\n",
      "[0 0 0 0 0] <class 'numpy.ndarray'>\n",
      "[1 2 3 4] <class 'numpy.ndarray'>\n"
     ]
    }
   ],
   "source": [
    "restore_array_1 = np.diag(diag_matrix)\n",
    "print(restore_array_1, type(restore_array_1))\n",
    "restore_array_2 = np.diag(diag_matrix_with_offset)\n",
    "print(restore_array_2, type(restore_array_2))\n",
    "restore_array_3 = np.diag(diag_matrix_with_offset, k=-1)\n",
    "print(restore_array_3, type(restore_array_3))"
   ]
  },
  {
   "cell_type": "markdown",
   "id": "a65da660",
   "metadata": {},
   "source": [
    "#### 19. Create a 8x8 matrix and fill it with a checkerboard pattern (★☆☆)"
   ]
  },
  {
   "cell_type": "code",
   "execution_count": 28,
   "id": "ed150400",
   "metadata": {},
   "outputs": [
    {
     "data": {
      "text/plain": [
       "array([[1., 0., 1., 0., 1., 0., 1., 0.],\n",
       "       [0., 1., 0., 1., 0., 1., 0., 1.],\n",
       "       [1., 0., 1., 0., 1., 0., 1., 0.],\n",
       "       [0., 1., 0., 1., 0., 1., 0., 1.],\n",
       "       [1., 0., 1., 0., 1., 0., 1., 0.],\n",
       "       [0., 1., 0., 1., 0., 1., 0., 1.],\n",
       "       [1., 0., 1., 0., 1., 0., 1., 0.],\n",
       "       [0., 1., 0., 1., 0., 1., 0., 1.]])"
      ]
     },
     "execution_count": 28,
     "metadata": {},
     "output_type": "execute_result"
    }
   ],
   "source": [
    "arr16 = np.zeros((8, 8))\n",
    "arr16[::2,::2] = 1\n",
    "arr16[1::2, 1::2] = 1\n",
    "arr16"
   ]
  },
  {
   "cell_type": "markdown",
   "id": "9f7f9c49",
   "metadata": {},
   "source": [
    "#### 20. Consider a (6,7,8) shape array, what is the index (x,y,z) of the 100th element? (★☆☆)"
   ]
  },
  {
   "cell_type": "code",
   "execution_count": 29,
   "id": "3782b5a9",
   "metadata": {},
   "outputs": [
    {
     "data": {
      "text/plain": [
       "(1, 5, 4)"
      ]
     },
     "execution_count": 29,
     "metadata": {},
     "output_type": "execute_result"
    }
   ],
   "source": [
    "coordinates = np.unravel_index(100, (6, 7, 8))\n",
    "coordinates"
   ]
  },
  {
   "cell_type": "markdown",
   "id": "66bfda35",
   "metadata": {},
   "source": [
    "#### 21. Create a checkerboard 8x8 matrix using the tile function (★☆☆)"
   ]
  },
  {
   "cell_type": "code",
   "execution_count": 30,
   "id": "4c07477c",
   "metadata": {},
   "outputs": [
    {
     "name": "stdout",
     "output_type": "stream",
     "text": [
      "[[1 0 1 0 1 0 1 0]\n",
      " [0 1 0 1 0 1 0 1]\n",
      " [1 0 1 0 1 0 1 0]\n",
      " [0 1 0 1 0 1 0 1]\n",
      " [1 0 1 0 1 0 1 0]\n",
      " [0 1 0 1 0 1 0 1]\n",
      " [1 0 1 0 1 0 1 0]\n",
      " [0 1 0 1 0 1 0 1]] \n",
      " [[ True  True  True  True  True  True  True  True]\n",
      " [ True  True  True  True  True  True  True  True]\n",
      " [ True  True  True  True  True  True  True  True]\n",
      " [ True  True  True  True  True  True  True  True]\n",
      " [ True  True  True  True  True  True  True  True]\n",
      " [ True  True  True  True  True  True  True  True]\n",
      " [ True  True  True  True  True  True  True  True]\n",
      " [ True  True  True  True  True  True  True  True]]\n"
     ]
    }
   ],
   "source": [
    "arr17_base = np.array([[1, 0], [0, 1]])\n",
    "arr17 = np.tile(arr17_base, (4, 4))\n",
    "print(arr17, \"\\n\", arr17 == arr16)"
   ]
  },
  {
   "cell_type": "code",
   "execution_count": 31,
   "id": "b3f49efc",
   "metadata": {},
   "outputs": [
    {
     "name": "stdout",
     "output_type": "stream",
     "text": [
      "int32 torch.int64\n"
     ]
    }
   ],
   "source": [
    "import torch\n",
    "arr_int = np.array([3, 4, 5])\n",
    "tes_int = torch.tensor([3, 4, 5])\n",
    "print(arr_int.dtype, tes_int.dtype)"
   ]
  },
  {
   "cell_type": "code",
   "execution_count": 32,
   "id": "0f659649",
   "metadata": {},
   "outputs": [
    {
     "name": "stdout",
     "output_type": "stream",
     "text": [
      "float64 torch.float32\n"
     ]
    }
   ],
   "source": [
    "arr_float = np.array([3.0, 4.0, 5.0])\n",
    "tes_float = torch.tensor([3.0, 4.0, 5.0])\n",
    "print(arr_float.dtype, tes_float.dtype)"
   ]
  },
  {
   "cell_type": "markdown",
   "id": "d5bcfc08",
   "metadata": {},
   "source": [
    "#### 22. Normalize a 5x5 random matrix (★☆☆)"
   ]
  },
  {
   "cell_type": "code",
   "execution_count": 33,
   "id": "cea6c993",
   "metadata": {},
   "outputs": [
    {
     "name": "stdout",
     "output_type": "stream",
     "text": [
      "[[ 0.88024 -0.45264 -0.42696  0.10924  0.59824]\n",
      " [-0.92597  2.58719 -1.56798 -1.42214 -0.01559]\n",
      " [-0.90824  0.76958  0.60265  0.55169  0.95634]\n",
      " [-0.25185  0.40634 -0.0387   1.07226  0.21195]\n",
      " [ 0.03703 -1.13376 -0.95995  1.0368   0.70546]] \n",
      "------\n",
      " [[ 0.84407 -0.59205 -0.56439  0.01335  0.54023]\n",
      " [-1.10205  2.68325 -1.7938  -1.63666 -0.12115]\n",
      " [-1.08294  0.72484  0.54499  0.49008  0.92607]\n",
      " [-0.37571  0.33346 -0.14605  1.05097  0.12402]\n",
      " [-0.06445 -1.32594 -1.13866  1.01276  0.65575]]\n"
     ]
    }
   ],
   "source": [
    "arr_22_rand = np.random.randn(5, 5)\n",
    "arr_22_rand_mean = arr_22_rand.mean()\n",
    "arr_22_rand_std = arr_22_rand.std()\n",
    "arr_22_rand_nor = (arr_22_rand - arr_22_rand_mean) / arr_22_rand_std\n",
    "print(arr_22_rand, \"\\n------\\n\", arr_22_rand_nor)"
   ]
  },
  {
   "cell_type": "markdown",
   "id": "f9a0911e",
   "metadata": {},
   "source": [
    "#### 23. Create a custom dtype that describes a color as four unsigned bytes (RGBA) (★☆☆)"
   ]
  },
  {
   "cell_type": "code",
   "execution_count": 34,
   "id": "d165044b",
   "metadata": {},
   "outputs": [
    {
     "name": "stdout",
     "output_type": "stream",
     "text": [
      "[(255,   0,  0,   0) (  0, 255,  0, 128) (  0,   0, 50,   0)]\n"
     ]
    }
   ],
   "source": [
    "color_dtype = np.dtype([\n",
    "    ('r', np.uint8),\n",
    "    ('g', np.uint8),\n",
    "    ('b', np.uint8),\n",
    "    ('a', np.uint8)\n",
    "])\n",
    "colors = np.array([(255, 0, 0, 0), (0, 255, 0, 128), (0, 0, 50, 0)], dtype=color_dtype)\n",
    "print(colors)"
   ]
  },
  {
   "cell_type": "markdown",
   "id": "654805b1",
   "metadata": {},
   "source": [
    "#### 24. Multiply a 5x3 matrix by a 3x2 matrix (real matrix product) (★☆☆)"
   ]
  },
  {
   "cell_type": "code",
   "execution_count": 35,
   "id": "6a42619f",
   "metadata": {},
   "outputs": [
    {
     "name": "stdout",
     "output_type": "stream",
     "text": [
      "[[22 44]\n",
      " [34 68]] \n",
      " [[22 44]\n",
      " [34 68]]\n"
     ]
    }
   ],
   "source": [
    "# dot product or inner product or standard matrix multiplication\n",
    "mat1 = np.array([[3, 4], [5, 6]])\n",
    "mat2 = np.array([[2, 4], [4, 8]])\n",
    "result1 = np.dot(mat1, mat2)\n",
    "result2 = mat1 @ mat2\n",
    "print(result1, '\\n', result2)"
   ]
  },
  {
   "cell_type": "code",
   "execution_count": 36,
   "id": "e5210293",
   "metadata": {},
   "outputs": [
    {
     "name": "stdout",
     "output_type": "stream",
     "text": [
      "[[ 6 16]\n",
      " [20 48]]\n",
      "[[ 6 20]\n",
      " [16 48]]\n",
      "tensor([[[ 1,  2,  3,  4],\n",
      "         [ 5,  6,  7,  8],\n",
      "         [ 9, 10, 11, 12]],\n",
      "\n",
      "        [[13, 14, 15, 16],\n",
      "         [17, 18, 19, 20],\n",
      "         [21, 22, 23, 24]]])\n",
      "tensor([[[ 1,  2,  3,  4],\n",
      "         [13, 14, 15, 16]],\n",
      "\n",
      "        [[ 5,  6,  7,  8],\n",
      "         [17, 18, 19, 20]],\n",
      "\n",
      "        [[ 9, 10, 11, 12],\n",
      "         [21, 22, 23, 24]]])\n",
      "tensor([[[ 1,  5,  9],\n",
      "         [ 2,  6, 10],\n",
      "         [ 3,  7, 11],\n",
      "         [ 4,  8, 12]],\n",
      "\n",
      "        [[13, 17, 21],\n",
      "         [14, 18, 22],\n",
      "         [15, 19, 23],\n",
      "         [16, 20, 24]]])\n",
      "tensor([[[ 1, 13],\n",
      "         [ 5, 17],\n",
      "         [ 9, 21]],\n",
      "\n",
      "        [[ 2, 14],\n",
      "         [ 6, 18],\n",
      "         [10, 22]],\n",
      "\n",
      "        [[ 3, 15],\n",
      "         [ 7, 19],\n",
      "         [11, 23]],\n",
      "\n",
      "        [[ 4, 16],\n",
      "         [ 8, 20],\n",
      "         [12, 24]]])\n"
     ]
    }
   ],
   "source": [
    "# element-wise multiplication\n",
    "result3 = mat1 * mat2\n",
    "print(result3)\n",
    "# transposition: flip a matrix over its diagonal\n",
    "result4 = result3.T\n",
    "print(result4)\n",
    "# transposition in PyTorch\n",
    "A = torch.tensor([[[1, 2, 3, 4], [5, 6, 7, 8], [9, 10, 11, 12]],\n",
    "                  [[13, 14, 15, 16], [17, 18, 19, 20], [21, 22, 23, 24]]])\n",
    "print(A)\n",
    "print(A.transpose(0, 1))\n",
    "print(A.transpose(1, 2))\n",
    "print(A.transpose(0, 2))"
   ]
  },
  {
   "cell_type": "markdown",
   "id": "994c25df",
   "metadata": {},
   "source": [
    "#### 25. Given a 1D array, negate all elements which are between 3 and 8, in place. (★☆☆)"
   ]
  },
  {
   "cell_type": "code",
   "execution_count": 37,
   "id": "e4b39c03",
   "metadata": {},
   "outputs": [
    {
     "name": "stdout",
     "output_type": "stream",
     "text": [
      "[0 1 2 3 4 5 6 7 8 9]\n",
      "[False False False  True  True  True  True  True  True False]\n",
      "[ 0  1  2 -3 -4 -5 -6 -7 -8  9]\n"
     ]
    }
   ],
   "source": [
    "arr18 = np.arange(10)\n",
    "mask = (arr18 >= 3) & (arr18 <= 8)\n",
    "print(arr18)\n",
    "print(mask)\n",
    "arr18[mask] *= -1\n",
    "print(arr18)"
   ]
  },
  {
   "cell_type": "markdown",
   "id": "b7d15d1a",
   "metadata": {},
   "source": [
    "#### 26. What is the output of the following script? (★☆☆)\n",
    "```python\n",
    "# Author: Jake VanderPlas\n",
    "\n",
    "print(sum(range(5),-1))\n",
    "from numpy import *\n",
    "print(sum(range(5),-1))\n",
    "```"
   ]
  },
  {
   "cell_type": "code",
   "execution_count": 38,
   "id": "4c95bc3f",
   "metadata": {},
   "outputs": [
    {
     "name": "stdout",
     "output_type": "stream",
     "text": [
      "9\n",
      "10\n"
     ]
    }
   ],
   "source": [
    "print(sum(range(5), -1))\n",
    "print(np.sum(range(5), -1))\n",
    "# the answer is 9 and 10 respectively\n",
    "# this is because in python, sum(0, 1, 2, 3, 4, -1)\n",
    "# in NumPy, sum(0, 1, 2, 3, 4) at the dimension of -1"
   ]
  },
  {
   "cell_type": "markdown",
   "id": "a34f0d08",
   "metadata": {},
   "source": [
    "#### 27. Consider an integer vector Z, which of these expressions are legal? (★☆☆)\n",
    "```python\n",
    "Z**Z\n",
    "2 << Z >> 2\n",
    "Z < -Z\n",
    "1j*Z\n",
    "Z/1/1\n",
    "Z<Z>Z\n",
    "```"
   ]
  },
  {
   "cell_type": "code",
   "execution_count": 39,
   "id": "564658fc",
   "metadata": {},
   "outputs": [],
   "source": [
    "Z = np.array([3, 4, 5])"
   ]
  },
  {
   "cell_type": "code",
   "execution_count": 40,
   "id": "f74aa762",
   "metadata": {},
   "outputs": [
    {
     "name": "stdout",
     "output_type": "stream",
     "text": [
      "transform: 1-d array -> 2-d array\n",
      "Z: [3 4 5] (3,)\n",
      "row_vec: [[3 4 5]] (1, 3)\n",
      "col_vec: [[3]\n",
      " [4]\n",
      " [5]] (3, 1)\n",
      "flatten: 2-d array -> 1-d array\n",
      "Z_: [[3 4 5]\n",
      " [6 7 8]] (2, 3)\n",
      "Z_reshape: [3 4 5 6 7 8] (6,)\n"
     ]
    }
   ],
   "source": [
    "row_vec = Z.reshape(1, -1)\n",
    "col_vec = Z.reshape(-1, 1)\n",
    "print(\"transform: 1-d array -> 2-d array\")\n",
    "print(\"Z:\", Z, Z.shape)\n",
    "print(\"row_vec:\", row_vec, row_vec.shape)\n",
    "print(\"col_vec:\", col_vec, col_vec.shape)\n",
    "Z_ = np.array([[3, 4, 5], [6, 7, 8]])\n",
    "Z_reshape = Z_.reshape(-1)\n",
    "print(\"flatten: 2-d array -> 1-d array\")\n",
    "print(\"Z_:\", Z_, Z_.shape)\n",
    "print(\"Z_reshape:\", Z_reshape, Z_reshape.shape)"
   ]
  },
  {
   "cell_type": "code",
   "execution_count": 41,
   "id": "e5fca729",
   "metadata": {},
   "outputs": [
    {
     "name": "stdout",
     "output_type": "stream",
     "text": [
      "Z * Z: [ 9 16 25]\n",
      "Z ** Z: [  27  256 3125]\n",
      "Z @ Z: 50\n",
      "Z @ Z by np.dot: 50\n",
      "True\n",
      "Z outer multiplication:\n",
      "[[ 9 12 15]\n",
      " [12 16 20]\n",
      " [15 20 25]]\n",
      "mat1 and mat2 cross product: [-4 -4]\n",
      "mat and mat_ cross product: -4\n"
     ]
    }
   ],
   "source": [
    "# element-wise operations: + - * / **\n",
    "print(\"Z * Z:\", Z * Z)\n",
    "print(\"Z ** Z:\", Z ** Z)\n",
    "# inner/dot/scalar product\n",
    "# vectors/matrices -> scalar\n",
    "print(\"Z @ Z:\", Z @ Z)\n",
    "print(\"Z @ Z by np.dot:\", np.dot(Z, Z))\n",
    "print((Z @ Z) == np.dot(Z, Z))\n",
    "# outer product\n",
    "# 2 vectors -> matrix\n",
    "print(\"Z outer multiplication:\")\n",
    "print(np.outer(Z, Z))\n",
    "mat1 = np.array([[1, 2], [3, 4]])\n",
    "mat2 = np.array([[5, 6], [7, 8]])\n",
    "mat = np.array([3, 4])\n",
    "mat_ = np.array([7, 8])\n",
    "# cross/external/vector product\n",
    "# 2 vectors -> vector\n",
    "# right-hand rule\n",
    "print(\"mat1 and mat2 cross product:\", np.cross(mat1, mat2))\n",
    "print(\"mat and mat_ cross product:\", np.cross(mat, mat_))\n",
    "# [1, 2] x [5, 6]\n",
    "# magnitude of vector a * magnitude of vector b * sine of the angle theta\n",
    "# sqrt(5)                 sqrt(61)                sine(arctan(5/6)-arctan(1/2))\n",
    "# = 4\n",
    "# [3, 4] x [7, 8]\n",
    "# sqrt(25)                sqrt(113)               sine(arctan(7/8)-arctan(3/4))\n",
    "# = 4"
   ]
  },
  {
   "cell_type": "code",
   "execution_count": 42,
   "id": "d4373509",
   "metadata": {},
   "outputs": [
    {
     "name": "stdout",
     "output_type": "stream",
     "text": [
      "2 << Z: [16 32 64]\n",
      "2 << Z >> 2: [ 4  8 16]\n"
     ]
    }
   ],
   "source": [
    "# shift\n",
    "# n1 >> n2 or \n",
    "# n1 << n2\n",
    "# n1 is the operand being shifted\n",
    "# n2 specifies how many positions to shift\n",
    "print(\"2 << Z:\", 2 << Z)\n",
    "# 2: [00000010]\n",
    "# Z: 3          4           5\n",
    "# result:\n",
    "#    [00010000] [00100000] [01000000]\n",
    "#    16         32         64\n",
    "print(\"2 << Z >> 2:\", 2 << Z >> 2)\n",
    "#    [00010000] [00100000] [01000000]\n",
    "#    16         32         64\n",
    "#    [00000100] [00001000] [00010000]\n",
    "#    4          8          16"
   ]
  },
  {
   "cell_type": "code",
   "execution_count": 43,
   "id": "30e73355",
   "metadata": {},
   "outputs": [
    {
     "name": "stdout",
     "output_type": "stream",
     "text": [
      "[False False False] [ True  True  True]\n"
     ]
    }
   ],
   "source": [
    "print(Z < -Z, Z >= -Z)"
   ]
  },
  {
   "cell_type": "code",
   "execution_count": 44,
   "id": "1bea51e3",
   "metadata": {},
   "outputs": [
    {
     "name": "stdout",
     "output_type": "stream",
     "text": [
      "[0.+3.j 0.+4.j 0.+5.j] <class 'numpy.ndarray'> complex128\n"
     ]
    }
   ],
   "source": [
    "complx = 1j * Z\n",
    "print(complx, type(complx), complx.dtype)"
   ]
  },
  {
   "cell_type": "code",
   "execution_count": 45,
   "id": "18cfbeed",
   "metadata": {},
   "outputs": [
    {
     "name": "stdout",
     "output_type": "stream",
     "text": [
      "[3 4 5] int32 [3. 4. 5.] float64 [3. 4. 5.] float64\n"
     ]
    }
   ],
   "source": [
    "a = Z/1\n",
    "b = Z/1/1\n",
    "print(Z, Z.dtype, a, a.dtype, b, b.dtype)"
   ]
  },
  {
   "cell_type": "code",
   "execution_count": 46,
   "id": "655a6110",
   "metadata": {},
   "outputs": [
    {
     "name": "stdout",
     "output_type": "stream",
     "text": [
      "[False False False]\n",
      "[False False False]\n",
      "[ True  True  True]\n",
      "[ True  True False]\n",
      "[ True  True  True]\n",
      "[1]\n"
     ]
    }
   ],
   "source": [
    "print(Z < Z)\n",
    "print(np.array([True, True, True]) > Z)\n",
    "print(np.array([False, False, False]) < Z)\n",
    "print(np.array([True, True, True]) == np.array([1, 1, 0]))\n",
    "print(np.array([False, False, False]) == np.array([0, 0, 0]))\n",
    "print(np.array([True]).astype(int))"
   ]
  },
  {
   "cell_type": "markdown",
   "id": "c34e94bf",
   "metadata": {},
   "source": [
    "#### 28. What are the result of the following expressions? (★☆☆)\n",
    "```python\n",
    "np.array(0) / np.array(0)\n",
    "np.array(0) // np.array(0)\n",
    "np.array([np.nan]).astype(int).astype(float)\n",
    "```"
   ]
  },
  {
   "cell_type": "code",
   "execution_count": 47,
   "id": "f1de47c8",
   "metadata": {},
   "outputs": [
    {
     "name": "stdout",
     "output_type": "stream",
     "text": [
      "3 ()\n",
      "[3] (1,)\n"
     ]
    }
   ],
   "source": [
    "arr19_1 = np.array(3)\n",
    "arr19_2 = np.array([3])\n",
    "# arr19_3 = np.array(2, 3)\n",
    "# Error\n",
    "print(arr19_1, arr19_1.shape)\n",
    "print(arr19_2, arr19_2.shape)"
   ]
  },
  {
   "cell_type": "code",
   "execution_count": 48,
   "id": "56663562",
   "metadata": {},
   "outputs": [
    {
     "name": "stdout",
     "output_type": "stream",
     "text": [
      "np.array(0) / np.array(0): nan\n",
      "This is because division by zero is undefined.\n",
      "np.array(0) // np.array(0): 0\n",
      "This is contingent on the NumPy version, yielding either NaN or 0.\n",
      "-2147483648\n",
      "[-2147483648]\n",
      "[ True]\n",
      "[-2.14748e+09]\n"
     ]
    },
    {
     "name": "stderr",
     "output_type": "stream",
     "text": [
      "C:\\Users\\dxtxbmfq\\AppData\\Local\\Temp\\ipykernel_9496\\1294547140.py:1: RuntimeWarning: invalid value encountered in divide\n",
      "  print(\"np.array(0) / np.array(0):\", np.array(0) / np.array(0))\n",
      "C:\\Users\\dxtxbmfq\\AppData\\Local\\Temp\\ipykernel_9496\\1294547140.py:3: RuntimeWarning: divide by zero encountered in floor_divide\n",
      "  print(\"np.array(0) // np.array(0):\", np.array(0) // np.array(0))\n",
      "C:\\Users\\dxtxbmfq\\AppData\\Local\\Temp\\ipykernel_9496\\1294547140.py:5: RuntimeWarning: invalid value encountered in cast\n",
      "  print(np.array(np.nan).astype(int))\n",
      "C:\\Users\\dxtxbmfq\\AppData\\Local\\Temp\\ipykernel_9496\\1294547140.py:6: RuntimeWarning: invalid value encountered in cast\n",
      "  print(np.array([np.nan]).astype(int))\n",
      "C:\\Users\\dxtxbmfq\\AppData\\Local\\Temp\\ipykernel_9496\\1294547140.py:7: RuntimeWarning: invalid value encountered in cast\n",
      "  print(np.array([np.nan]).astype(int) == -2147483648)\n",
      "C:\\Users\\dxtxbmfq\\AppData\\Local\\Temp\\ipykernel_9496\\1294547140.py:9: RuntimeWarning: invalid value encountered in cast\n",
      "  print(np.array([np.nan]).astype(int).astype(float))\n"
     ]
    }
   ],
   "source": [
    "print(\"np.array(0) / np.array(0):\", np.array(0) / np.array(0))\n",
    "print(\"This is because division by zero is undefined.\")\n",
    "print(\"np.array(0) // np.array(0):\", np.array(0) // np.array(0))\n",
    "print(\"This is contingent on the NumPy version, yielding either NaN or 0.\")\n",
    "print(np.array(np.nan).astype(int))\n",
    "print(np.array([np.nan]).astype(int))\n",
    "print(np.array([np.nan]).astype(int) == -2147483648)\n",
    "# A 32-bit signed integer has a minimum value of -2,147,483,648.\n",
    "print(np.array([np.nan]).astype(int).astype(float))"
   ]
  },
  {
   "cell_type": "markdown",
   "id": "546f5e7b",
   "metadata": {},
   "source": [
    "#### 29. How to round away from zero a float array ? (★☆☆)"
   ]
  },
  {
   "cell_type": "code",
   "execution_count": 49,
   "id": "f725a6d2",
   "metadata": {},
   "outputs": [
    {
     "name": "stdout",
     "output_type": "stream",
     "text": [
      "[-2.  3. -4.  5.  0. -1.] [ True  True  True  True  True  True]\n",
      "[-2.  3. -4.  5.  0. -1.] [ True  True  True  True  True  True]\n",
      "[-2.  3. -4.  5.  0. -1.] [ True  True  True  True  True  True]\n"
     ]
    }
   ],
   "source": [
    "arr_20 = np.array([-1.4, 2.6, -3.2, 4.7, 0.0, -0.8])\n",
    "# expect: [-2., 3., -4., 5., 0., -1.]\n",
    "# solution 1:\n",
    "arr_20_ans_1 = np.sign(arr_20) * np.ceil(np.abs(arr_20))\n",
    "print(arr_20_ans_1, arr_20_ans_1 == np.array([-2., 3., -4., 5., 0., -1.]))\n",
    "# solution 2:\n",
    "arr_20_ans_2 = np.where(arr_20 > 0, np.ceil(arr_20), np.floor(arr_20))\n",
    "print(arr_20_ans_2, arr_20_ans_2 == np.array([-2., 3., -4., 5., 0., -1.]))\n",
    "# solution 3:\n",
    "arr_20_ans_3 = arr_20\n",
    "mask_20 = arr_20_ans_3 > 0\n",
    "arr_20_ans_3[mask_20] = np.ceil(arr_20_ans_3[mask_20])\n",
    "arr_20_ans_3[~mask_20] = np.floor(arr_20_ans_3[~mask_20])\n",
    "print(arr_20_ans_3, arr_20_ans_3 == np.array([-2., 3., -4., 5., 0., -1.]))"
   ]
  },
  {
   "cell_type": "markdown",
   "id": "eadca856",
   "metadata": {},
   "source": [
    "#### 30. How to find common values between two arrays? (★☆☆)"
   ]
  },
  {
   "cell_type": "code",
   "execution_count": 50,
   "id": "05a3edcb",
   "metadata": {},
   "outputs": [
    {
     "name": "stdout",
     "output_type": "stream",
     "text": [
      "[3 4 5]\n",
      "[3 4 5 6]\n"
     ]
    }
   ],
   "source": [
    "arr_23_1 = np.array([1, 2, 3, 4, 5])\n",
    "arr_23_2 = np.array([3, 4, 5, 6, 7])\n",
    "intersection = np.intersect1d(arr_23_1, arr_23_2)\n",
    "print(intersection)\n",
    "a = np.array([[1, 2], [3, 4], [5, 6]])\n",
    "b = np.array([[3, 4], [5, 6], [7, 8]])\n",
    "intersection = np.intersect1d(a, b)\n",
    "print(intersection)"
   ]
  },
  {
   "cell_type": "code",
   "execution_count": 51,
   "id": "e0270b5b",
   "metadata": {},
   "outputs": [
    {
     "name": "stdout",
     "output_type": "stream",
     "text": [
      "------check the base------\n",
      "base: copy, view, another_view, reference None [1 2 3 4 5 6] [1 2 3 4 5 6] None\n",
      "[ True  True  True  True  True  True]\n",
      "------the view affects the original array------\n",
      "------because of sharing underlying data------\n",
      "view_array_ano: [  2   3 778]\n",
      "original_array: [  1   2   3 778   5   6]\n",
      "------the original array affects the view------\n",
      "------because of sharing underlying data------\n",
      "view_array_ano: [921   3 778]\n",
      "view_array: [  1 921   3 778   5   6]\n",
      "original_array: [  1 921   3 778   5   6]\n",
      "------but changing the structure doesn't affect------\n",
      "view_array_ano: [921   3 778]\n",
      "view_array: [  1 921   3 778   5   6]\n",
      "original_array: [[  1 921]\n",
      " [  3 778]\n",
      " [  5   6]]\n"
     ]
    }
   ],
   "source": [
    "# Understanding *copy*, *view* and *reference*\n",
    "# A *copy* is entirely <independent> of the original array.\n",
    "# A *view* shares the same underlying data with the original array but is a separate array object<view->shares data, not stucture>.\n",
    "# A *reference* is simply another name or alias for the same object, meaning it's <identical> to the original array.\n",
    "original_array = np.array([1, 2, 3, 4, 5, 6])\n",
    "copy_array = original_array.copy()\n",
    "view_array = original_array.view()\n",
    "view_array_ano = original_array[1:4]\n",
    "reference_array = original_array\n",
    "print(\"------check the base------\")\n",
    "print(\"base: copy, view, another_view, reference\", copy_array.base, view_array.base, view_array_ano.base, reference_array.base)\n",
    "print(view_array.base == view_array_ano.base)\n",
    "print(\"------the view affects the original array------\")\n",
    "print(\"------because of sharing underlying data------\")\n",
    "view_array[3] = 778\n",
    "print(\"view_array_ano:\", view_array_ano)\n",
    "print(\"original_array:\", original_array)\n",
    "print(\"------the original array affects the view------\")\n",
    "print(\"------because of sharing underlying data------\")\n",
    "original_array[1] = 921\n",
    "print(\"view_array_ano:\", view_array_ano)\n",
    "print(\"view_array:\", view_array)\n",
    "print(\"original_array:\", original_array)\n",
    "print(\"------but changing the structure doesn't affect------\")\n",
    "original_array = original_array.reshape((3, 2))\n",
    "print(\"view_array_ano:\", view_array_ano)\n",
    "print(\"view_array:\", view_array)\n",
    "print(\"original_array:\", original_array)"
   ]
  },
  {
   "cell_type": "code",
   "execution_count": 52,
   "id": "6671616c",
   "metadata": {},
   "outputs": [
    {
     "name": "stdout",
     "output_type": "stream",
     "text": [
      "oned_array.flags\n",
      "  C_CONTIGUOUS : True\n",
      "  F_CONTIGUOUS : True\n",
      "  OWNDATA : True\n",
      "  WRITEABLE : True\n",
      "  ALIGNED : True\n",
      "  WRITEBACKIFCOPY : False\n",
      "\n",
      "twod_array_1.flags\n",
      "  C_CONTIGUOUS : True\n",
      "  F_CONTIGUOUS : False\n",
      "  OWNDATA : True\n",
      "  WRITEABLE : True\n",
      "  ALIGNED : True\n",
      "  WRITEBACKIFCOPY : False\n",
      "\n",
      "twod_array_2.flags\n",
      "  C_CONTIGUOUS : False\n",
      "  F_CONTIGUOUS : True\n",
      "  OWNDATA : False\n",
      "  WRITEABLE : True\n",
      "  ALIGNED : True\n",
      "  WRITEBACKIFCOPY : False\n",
      "\n",
      "view_array.flags\n",
      "  C_CONTIGUOUS : True\n",
      "  F_CONTIGUOUS : False\n",
      "  OWNDATA : False\n",
      "  WRITEABLE : True\n",
      "  ALIGNED : True\n",
      "  WRITEBACKIFCOPY : False\n",
      "\n"
     ]
    }
   ],
   "source": [
    "oned_array = np.array([3, 4, 5])\n",
    "print(\"oned_array.flags\")\n",
    "print(oned_array.flags)\n",
    "twod_array_1 = np.array([[1, 2, 3], [4, 5, 6]])\n",
    "twod_array_2 = twod_array_1.T\n",
    "print(\"twod_array_1.flags\")\n",
    "print(twod_array_1.flags)\n",
    "print(\"twod_array_2.flags\")\n",
    "print(twod_array_2.flags)\n",
    "view_array = twod_array_1.view()\n",
    "print(\"view_array.flags\")\n",
    "print(view_array.flags)"
   ]
  },
  {
   "cell_type": "code",
   "execution_count": 53,
   "id": "5c610b2a",
   "metadata": {},
   "outputs": [
    {
     "data": {
      "text/plain": [
       "'NumPy Memory Layout\\nThe elements in an array are stored in a flat, one-dimensional block, regardless of the array\\'s shape (1D, 2D, 3D, etc).\\n\\nNumPy arrays can be stored in memory in either C-contiguous (the last axis varies fastest, elements in the same row are stored next to each other in memory) or F-contiguous (the first axis varies fastest, elements in the same column are stored next to each other in memory) order.\\n\\nExample:\\nassume the array starts at memory address \"0x1000\"\\nnp.array([[1, 2, 3], [4, 5, 6]], dtype=np.int32) is stored in F-contiguous order\\n1 -> 0x1000 to 0x1003\\n4 -> 0x1004 to 0x1007\\n2 -> 0x1008 to 0x100b\\n5 -> 0x100c to 0x100f\\n3 -> 0x1010 to 0x1013\\n6 -> 0x1014 to 0x1017\\n'"
      ]
     },
     "execution_count": 53,
     "metadata": {},
     "output_type": "execute_result"
    }
   ],
   "source": [
    "\"\"\"NumPy Memory Layout\n",
    "The elements in an array are stored in a flat, one-dimensional block, regardless of the array's shape (1D, 2D, 3D, etc).\n",
    "\n",
    "NumPy arrays can be stored in memory in either C-contiguous (the last axis varies fastest, elements in the same row are stored next to each other in memory) or F-contiguous (the first axis varies fastest, elements in the same column are stored next to each other in memory) order.\n",
    "\n",
    "Example:\n",
    "assume the array starts at memory address \"0x1000\"\n",
    "np.array([[1, 2, 3], [4, 5, 6]], dtype=np.int32) is stored in F-contiguous order\n",
    "1 -> 0x1000 to 0x1003\n",
    "4 -> 0x1004 to 0x1007\n",
    "2 -> 0x1008 to 0x100b\n",
    "5 -> 0x100c to 0x100f\n",
    "3 -> 0x1010 to 0x1013\n",
    "6 -> 0x1014 to 0x1017\n",
    "\"\"\""
   ]
  },
  {
   "cell_type": "code",
   "execution_count": 54,
   "id": "f51c18f3",
   "metadata": {},
   "outputs": [
    {
     "name": "stdout",
     "output_type": "stream",
     "text": [
      "[[1 2 3]\n",
      " [4 5 6]]\n",
      "4\n",
      "(12, 4)\n",
      "------\n",
      "[1.+2.j 3.+4.j 5.+6.j 7.+8.j]\n",
      "16\n",
      "(16,)\n",
      "------\n",
      "3\n",
      "8\n",
      "()\n",
      "------\n",
      "[[1 3]\n",
      " [4 6]]\n",
      "(12, 8)\n"
     ]
    }
   ],
   "source": [
    "# illustrate the strides\n",
    "arr_s_1 = np.array([[1, 2, 3], [4, 5, 6]], dtype=np.int32)\n",
    "print(arr_s_1)\n",
    "print(arr_s_1.itemsize)\n",
    "print(arr_s_1.strides)\n",
    "print(\"------\")\n",
    "arr_s_2 = np.array([1+2j, 3+4j, 5+6j, 7+8j], dtype=np.complex128)\n",
    "print(arr_s_2)\n",
    "print(arr_s_2.itemsize)\n",
    "print(arr_s_2.strides)\n",
    "print(\"------\")\n",
    "arr_s_3 = np.array(3, dtype=np.int64)\n",
    "print(arr_s_3)\n",
    "print(arr_s_3.itemsize)\n",
    "print(arr_s_3.strides)\n",
    "print(\"------\")\n",
    "\"\"\"offset = i × strides[0] + j × strides[1]\"\"\"\n",
    "sliced_arr_s_1 = arr_s_1[:, ::2]\n",
    "print(sliced_arr_s_1)\n",
    "print(sliced_arr_s_1.strides)"
   ]
  },
  {
   "cell_type": "code",
   "execution_count": 55,
   "id": "e065d97d",
   "metadata": {},
   "outputs": [
    {
     "data": {
      "text/plain": [
       "\"\\narr = np.array([[[1,  2,  3,  4],  # Block 1\\n                 [5,  6,  7,  8],  # Row 2\\n                 [9, 10, 11, 12]],  # Row 3\\n\\n                [[13, 14, 15, 16],  # Block 2\\n                 [17, 18, 19, 20],  # Row 2\\n                 [21, 22, 23, 24]]],  # Row 3\\n               order='C')\\nmemory layout:\\n[1, 2, 3, 4,    5, 6, 7, 8,    9, 10, 11, 12,    13, 14, 15, 16,    17, 18, 19, 20,    21, 22, 23, 24]\\narr = np.array([[[ 1,  2,  3,  4],  # Block 1\\n                 [ 5,  6,  7,  8],  # Row 2\\n                 [ 9, 10, 11, 12]], # Row 3\\n\\n                [[13, 14, 15, 16],  # Block 2\\n                 [17, 18, 19, 20],  # Row 2\\n                 [21, 22, 23, 24]]],# Row 3\\n                order='F')\\nmemory layout:\\n[1, 13,    5, 17,    9, 21,    2, 14,    6, 18,    10, 22,    3, 15,    7, 19, 11, 23,    4, 16,    8, 20,    12, 24]\\n\""
      ]
     },
     "execution_count": 55,
     "metadata": {},
     "output_type": "execute_result"
    }
   ],
   "source": [
    "\"\"\"\n",
    "arr = np.array([[[1,  2,  3,  4],  # Block 1\n",
    "                 [5,  6,  7,  8],  # Row 2\n",
    "                 [9, 10, 11, 12]],  # Row 3\n",
    "\n",
    "                [[13, 14, 15, 16],  # Block 2\n",
    "                 [17, 18, 19, 20],  # Row 2\n",
    "                 [21, 22, 23, 24]]],  # Row 3\n",
    "               order='C')\n",
    "memory layout:\n",
    "[1, 2, 3, 4,    5, 6, 7, 8,    9, 10, 11, 12,    13, 14, 15, 16,    17, 18, 19, 20,    21, 22, 23, 24]\n",
    "arr = np.array([[[ 1,  2,  3,  4],  # Block 1\n",
    "                 [ 5,  6,  7,  8],  # Row 2\n",
    "                 [ 9, 10, 11, 12]], # Row 3\n",
    "\n",
    "                [[13, 14, 15, 16],  # Block 2\n",
    "                 [17, 18, 19, 20],  # Row 2\n",
    "                 [21, 22, 23, 24]]],# Row 3\n",
    "                order='F')\n",
    "memory layout:\n",
    "[1, 13,    5, 17,    9, 21,    2, 14,    6, 18,    10, 22,    3, 15,    7, 19, 11, 23,    4, 16,    8, 20,    12, 24]\n",
    "\"\"\""
   ]
  },
  {
   "cell_type": "code",
   "execution_count": 56,
   "id": "41e89a2c",
   "metadata": {},
   "outputs": [
    {
     "name": "stdout",
     "output_type": "stream",
     "text": [
      "arr_transposed\n",
      "[[[ 1  7 13]\n",
      "  [ 4 10 16]]\n",
      "\n",
      " [[ 2  8 14]\n",
      "  [ 5 11 17]]\n",
      "\n",
      " [[ 3  9 15]\n",
      "  [ 6 12 18]]]\n",
      "arr_transposed owns data?\n",
      "False\n",
      "the memory layout:\n",
      "1 2 3 4 5 6 7 8 9 10 11 12 13 14 15 16 17 18\n"
     ]
    }
   ],
   "source": [
    "\"\"\"\n",
    "NumPy determines the new shape and strides when doing operations like transposition. It creates a new view that accesses the original memory in a different way.\n",
    "\"\"\"\n",
    "arr = np.array([[[1,  2,  3],\n",
    "                 [4,  5,  6]],\n",
    "\n",
    "                [[7,  8,  9],\n",
    "                 [10, 11, 12]],\n",
    "\n",
    "                [[13, 14, 15],\n",
    "                 [16, 17, 18]]])\n",
    "\n",
    "arr_transposed = arr.transpose(2, 1, 0)\n",
    "print(\"arr_transposed\")\n",
    "print(arr_transposed)\n",
    "print(\"arr_transposed owns data?\")\n",
    "print(arr_transposed.flags[\"OWNDATA\"])\n",
    "print(\"the memory layout:\")\n",
    "print(\"1 2 3 4 5 6 7 8 9 10 11 12 13 14 15 16 17 18\")"
   ]
  },
  {
   "cell_type": "code",
   "execution_count": 57,
   "id": "00416fd0",
   "metadata": {},
   "outputs": [
    {
     "name": "stdout",
     "output_type": "stream",
     "text": [
      "ravel_c: [Read the elements in row-major order (C-style).]\n",
      "[ 1  7 13  4 10 16  2  8 14  5 11 17  3  9 15  6 12 18]\n",
      "None\n",
      "  C_CONTIGUOUS : True\n",
      "  F_CONTIGUOUS : True\n",
      "  OWNDATA : True\n",
      "  WRITEABLE : True\n",
      "  ALIGNED : True\n",
      "  WRITEBACKIFCOPY : False\n",
      "\n",
      "ravel_f: [Read the elements in column-major order (Fortran-style).]\n",
      "[ 1  2  3  4  5  6  7  8  9 10 11 12 13 14 15 16 17 18]\n",
      "[[[ 1  2  3]\n",
      "  [ 4  5  6]]\n",
      "\n",
      " [[ 7  8  9]\n",
      "  [10 11 12]]\n",
      "\n",
      " [[13 14 15]\n",
      "  [16 17 18]]]\n",
      "  C_CONTIGUOUS : True\n",
      "  F_CONTIGUOUS : True\n",
      "  OWNDATA : False\n",
      "  WRITEABLE : True\n",
      "  ALIGNED : True\n",
      "  WRITEBACKIFCOPY : False\n",
      "\n",
      "ravel_c is a copy while ravel_f is a view\n"
     ]
    }
   ],
   "source": [
    "ravel_c = np.ravel(arr_transposed, order='C')\n",
    "print(\"ravel_c: [Read the elements in row-major order (C-style).]\")\n",
    "print(ravel_c)\n",
    "print(ravel_c.base)\n",
    "print(ravel_c.flags)\n",
    "\n",
    "ravel_f = np.ravel(arr_transposed, order='F')\n",
    "print(\"ravel_f: [Read the elements in column-major order (Fortran-style).]\")\n",
    "print(ravel_f)\n",
    "print(ravel_f.base)\n",
    "print(ravel_f.flags)\n",
    "\n",
    "print(\"ravel_c is a copy while ravel_f is a view\")"
   ]
  },
  {
   "cell_type": "code",
   "execution_count": 58,
   "id": "c52c6fc1",
   "metadata": {},
   "outputs": [
    {
     "name": "stdout",
     "output_type": "stream",
     "text": [
      "ravel_a: [Read the elements in Fortran-style if the array is Fortran contiguous in memory, C-style otherwise.]\n",
      "the array is c-con in memory originally, but it is f-con now, \n",
      "so the ravel outputs its elements in the f-con order, \n",
      "and it is a view because the elements align with the memory layout\n",
      "[ 1  2  3  4  5  6  7  8  9 10 11 12 13 14 15 16 17 18]\n",
      "[[[ 1  2  3]\n",
      "  [ 4  5  6]]\n",
      "\n",
      " [[ 7  8  9]\n",
      "  [10 11 12]]\n",
      "\n",
      " [[13 14 15]\n",
      "  [16 17 18]]]\n",
      "  C_CONTIGUOUS : True\n",
      "  F_CONTIGUOUS : True\n",
      "  OWNDATA : False\n",
      "  WRITEABLE : True\n",
      "  ALIGNED : True\n",
      "  WRITEBACKIFCOPY : False\n",
      "\n",
      "ravel_k: [Read the elements in the order they appear in memory.]\n",
      "[ 1  2  3  4  5  6  7  8  9 10 11 12 13 14 15 16 17 18]\n",
      "[[[ 1  2  3]\n",
      "  [ 4  5  6]]\n",
      "\n",
      " [[ 7  8  9]\n",
      "  [10 11 12]]\n",
      "\n",
      " [[13 14 15]\n",
      "  [16 17 18]]]\n",
      "  C_CONTIGUOUS : True\n",
      "  F_CONTIGUOUS : True\n",
      "  OWNDATA : False\n",
      "  WRITEABLE : True\n",
      "  ALIGNED : True\n",
      "  WRITEBACKIFCOPY : False\n",
      "\n"
     ]
    }
   ],
   "source": [
    "# the actual memory layout remains unchanged:\n",
    "# 1 2 3 4 5 6 7 8 9 10 11 12 13 14 15 16 17 18\n",
    "# the transposition creates a view of the array with modified strides\n",
    "ravel_a = np.ravel(arr_transposed, order='A')\n",
    "print(\"ravel_a: [Read the elements in Fortran-style if the array is Fortran contiguous in memory, C-style otherwise.]\")\n",
    "print(\"the array is c-con in memory originally, but it is f-con now, \\nso the ravel outputs its elements in the f-con order, \\nand it is a view because the elements align with the memory layout\")\n",
    "print(ravel_a)\n",
    "print(ravel_a.base)\n",
    "print(ravel_a.flags)\n",
    "\n",
    "ravel_k = np.ravel(arr_transposed, order='K')\n",
    "print(\"ravel_k: [Read the elements in the order they appear in memory.]\")\n",
    "print(ravel_k)\n",
    "print(ravel_k.base)\n",
    "print(ravel_k.flags)"
   ]
  },
  {
   "cell_type": "code",
   "execution_count": 59,
   "id": "3a70f851",
   "metadata": {},
   "outputs": [
    {
     "name": "stdout",
     "output_type": "stream",
     "text": [
      "arr_transposed\n",
      "[[[ 1  7 13]\n",
      "  [ 4 10 16]]\n",
      "\n",
      " [[ 2  8 14]\n",
      "  [ 5 11 17]]\n",
      "\n",
      " [[ 3  9 15]\n",
      "  [ 6 12 18]]]\n",
      "arr_transposed owns data?\n",
      "[[[ 1  2  3]\n",
      "  [ 4  5  6]]\n",
      "\n",
      " [[ 7  8  9]\n",
      "  [10 11 12]]\n",
      "\n",
      " [[13 14 15]\n",
      "  [16 17 18]]]\n",
      "  C_CONTIGUOUS : True\n",
      "  F_CONTIGUOUS : False\n",
      "  OWNDATA : False\n",
      "  WRITEABLE : True\n",
      "  ALIGNED : True\n",
      "  WRITEBACKIFCOPY : False\n",
      "\n",
      "memory layout:\n",
      "1 7 13 4 10 16 2 8 14 5 11 17 3 9 15 6 12 18\n"
     ]
    }
   ],
   "source": [
    "arr = np.array([[[1,  2,  3],\n",
    "                 [4,  5,  6]],\n",
    "\n",
    "                [[7,  8,  9],\n",
    "                 [10, 11, 12]],\n",
    "\n",
    "                [[13, 14, 15],\n",
    "                 [16, 17, 18]]],\n",
    "                 order = 'F')\n",
    "arr_transposed = arr.transpose(2, 1, 0)\n",
    "print(\"arr_transposed\")\n",
    "print(arr_transposed)\n",
    "print(\"arr_transposed owns data?\")\n",
    "print(arr_transposed.base)\n",
    "print(arr_transposed.flags)\n",
    "\n",
    "print(\"memory layout:\")\n",
    "print(\"1 7 13 4 10 16 2 8 14 5 11 17 3 9 15 6 12 18\")"
   ]
  },
  {
   "cell_type": "code",
   "execution_count": 60,
   "id": "54c3405a",
   "metadata": {},
   "outputs": [
    {
     "name": "stdout",
     "output_type": "stream",
     "text": [
      "ravel_c\n",
      "[ 1  7 13  4 10 16  2  8 14  5 11 17  3  9 15  6 12 18]\n",
      "[[[ 1  2  3]\n",
      "  [ 4  5  6]]\n",
      "\n",
      " [[ 7  8  9]\n",
      "  [10 11 12]]\n",
      "\n",
      " [[13 14 15]\n",
      "  [16 17 18]]]\n",
      "ravel_f\n",
      "[ 1  2  3  4  5  6  7  8  9 10 11 12 13 14 15 16 17 18]\n",
      "None\n"
     ]
    }
   ],
   "source": [
    "ravel_c = np.ravel(arr_transposed, order='C')\n",
    "# 1 7 13 4 10 16 ...\n",
    "# not None (indicating a view)\n",
    "print(\"ravel_c\")\n",
    "print(ravel_c)\n",
    "print(ravel_c.base)\n",
    "\n",
    "ravel_f = np.ravel(arr_transposed, order='F')\n",
    "# 1 2 3 4 5 6 ...\n",
    "# None\n",
    "print(\"ravel_f\")\n",
    "print(ravel_f)\n",
    "print(ravel_f.base)"
   ]
  },
  {
   "cell_type": "code",
   "execution_count": 61,
   "id": "da0b5224",
   "metadata": {},
   "outputs": [
    {
     "name": "stdout",
     "output_type": "stream",
     "text": [
      "ravel_a\n",
      "[ 1  7 13  4 10 16  2  8 14  5 11 17  3  9 15  6 12 18]\n",
      "[[[ 1  2  3]\n",
      "  [ 4  5  6]]\n",
      "\n",
      " [[ 7  8  9]\n",
      "  [10 11 12]]\n",
      "\n",
      " [[13 14 15]\n",
      "  [16 17 18]]]\n",
      "ravel_k\n",
      "[ 1  7 13  4 10 16  2  8 14  5 11 17  3  9 15  6 12 18]\n",
      "[[[ 1  2  3]\n",
      "  [ 4  5  6]]\n",
      "\n",
      " [[ 7  8  9]\n",
      "  [10 11 12]]\n",
      "\n",
      " [[13 14 15]\n",
      "  [16 17 18]]]\n"
     ]
    }
   ],
   "source": [
    "ravel_a = np.ravel(arr_transposed, order='A')\n",
    "# 1 7 13 4 10 16 ...\n",
    "# not None\n",
    "print(\"ravel_a\")\n",
    "print(ravel_a)\n",
    "print(ravel_a.base)\n",
    "\n",
    "ravel_k = np.ravel(arr_transposed, order='K')\n",
    "# 1 7 13 4 10 16 ...\n",
    "# not None\n",
    "print(\"ravel_k\")\n",
    "print(ravel_k)\n",
    "print(ravel_k.base)"
   ]
  },
  {
   "cell_type": "code",
   "execution_count": 62,
   "id": "0a661294",
   "metadata": {},
   "outputs": [],
   "source": [
    "# compare ravel(), reshape(-1) and flatten()\n",
    "# ravel() -> view (data either C-con or F-con) or copy (data not contiguous)\n",
    "# reshape(-1) -> view (data either C-con or F-con) or copy (data not contiguous)\n",
    "# flatten() -> always copy"
   ]
  },
  {
   "cell_type": "markdown",
   "id": "ca16ca22",
   "metadata": {},
   "source": [
    "#### 31. How to ignore all numpy warnings (not recommended)? (★☆☆)"
   ]
  },
  {
   "cell_type": "markdown",
   "id": "c7871d0d",
   "metadata": {},
   "source": [
    "#### 32. Is the following expressions true? (★☆☆)\n",
    "```python\n",
    "np.sqrt(-1) == np.emath.sqrt(-1)\n",
    "```"
   ]
  },
  {
   "cell_type": "code",
   "execution_count": 63,
   "id": "acc3701a",
   "metadata": {},
   "outputs": [
    {
     "name": "stdout",
     "output_type": "stream",
     "text": [
      "nan 1j\n"
     ]
    },
    {
     "name": "stderr",
     "output_type": "stream",
     "text": [
      "C:\\Users\\dxtxbmfq\\AppData\\Local\\Temp\\ipykernel_9496\\2139444726.py:1: RuntimeWarning: invalid value encountered in sqrt\n",
      "  a = np.sqrt(-1)\n"
     ]
    }
   ],
   "source": [
    "a = np.sqrt(-1)\n",
    "b = np.emath.sqrt(-1)\n",
    "print(a, b)"
   ]
  },
  {
   "cell_type": "code",
   "execution_count": 64,
   "id": "05ec5144",
   "metadata": {},
   "outputs": [
    {
     "name": "stdout",
     "output_type": "stream",
     "text": [
      "z_bytes:\n",
      "b'\\x00\\x00\\x00\\x00\\x00\\x00\\x08@\\x00\\x00\\x00\\x00\\x00\\x00\\x10@'\n",
      "[0, 0, 0, 0, 0, 0, 8, 64, 0, 0, 0, 0, 0, 0, 16, 64]\n",
      "real part: 00 00 00 00 00 00 08 40\n",
      "imag part: 00 00 00 00 00 00 10 40\n",
      "reconstruction:\n",
      "[3.+4.j]\n"
     ]
    }
   ],
   "source": [
    "z = np.complex128(3 + 4j)\n",
    "# 8 bytes for real part and 8 bytes for imaginary part\n",
    "# 3.0 + 4.0j\n",
    "# binary:\n",
    "# 11.0 + 100.0 = 1.1 * 2^(1024-1023) + 1.0 * 2^(1025-1023) \n",
    "# [0] [1000 0000 000] [1 0 0 0 ... ] + [0] [1000 0000 001] [0 0 0 0 ... ]\n",
    "# grouping:\n",
    "# 0100 0000 0000 1000 0000 ... + 0100 0000 0001 0000 ...\n",
    "# hexadecimal:\n",
    "# 40 08 00 00 ... + 40 10 00 00 ...\n",
    "# little-endian:\n",
    "# 00 00 ... 08 40 + 00 00 ... 10 40\n",
    "\n",
    "z_bytes = z.tobytes()\n",
    "print(\"z_bytes:\")\n",
    "print(z_bytes)\n",
    "print(list(z_bytes))\n",
    "print('real part: ' + ' '.join(f'{byte:02x}' for byte in z_bytes[:8]))\n",
    "print('imag part: ' + ' '.join(f'{byte:02x}' for byte in z_bytes[8:]))\n",
    "print(\"reconstruction:\")\n",
    "rec_z = np.frombuffer(z_bytes, dtype=np.complex128)\n",
    "print(rec_z)"
   ]
  },
  {
   "cell_type": "code",
   "execution_count": 65,
   "id": "21fb4c75",
   "metadata": {},
   "outputs": [
    {
     "name": "stdout",
     "output_type": "stream",
     "text": [
      "int_array_bytes:\n",
      "b'\\x01\\x00\\x00\\x00\\x02\\x00\\x00\\x00\\x03\\x00\\x00\\x00\\x04\\x00\\x00\\x00'\n",
      "[1, 0, 0, 0, 2, 0, 0, 0, 3, 0, 0, 0, 4, 0, 0, 0]\n",
      "01 00 00 00 02 00 00 00 03 00 00 00 04 00 00 00\n",
      "reconstruction:\n",
      "[1 2 3 4] <class 'numpy.ndarray'> int32\n"
     ]
    }
   ],
   "source": [
    "int_array = np.array([1, 2, 3, 4], dtype=np.int32)\n",
    "# 1 -> binary:\n",
    "# 0000 0000  0000 0000  0000 0000  0000 0001\n",
    "# hexadecimal:\n",
    "# 00 00 00 01\n",
    "# little-endian:\n",
    "# 01 00 00 00\n",
    "# the same for 2, 3 and 4\n",
    "# result:\n",
    "# 01 00 00 00 02 00 00 00 03 00 00 00 04 00 00 00\n",
    "int_array_bytes = int_array.tobytes()\n",
    "print(\"int_array_bytes:\")\n",
    "print(int_array_bytes)\n",
    "print(list(int_array_bytes))\n",
    "print(' '.join(f'{byte:02x}' for byte in int_array_bytes))\n",
    "print(\"reconstruction:\")\n",
    "rec_int_array = np.frombuffer(int_array_bytes, dtype=np.int32)\n",
    "print(rec_int_array, type(rec_int_array), rec_int_array.dtype)"
   ]
  },
  {
   "cell_type": "code",
   "execution_count": 66,
   "id": "38983e45",
   "metadata": {},
   "outputs": [
    {
     "name": "stdout",
     "output_type": "stream",
     "text": [
      "[[1 2]\n",
      " [3 4]]\n",
      "b'\\x01\\x00\\x02\\x00\\x03\\x00\\x04\\x00'\n",
      "01 00 02 00 03 00 04 00\n",
      "reconstruction:\n",
      "[[1 2]\n",
      " [3 4]]\n",
      "[131073 262147]\n"
     ]
    }
   ],
   "source": [
    "matrix = np.array([[1, 2], [3, 4]], dtype=np.int16)\n",
    "# 01 00 02 00 03 00 04 00\n",
    "matrix_bytes = matrix.tobytes()\n",
    "print(matrix)\n",
    "print(matrix_bytes)\n",
    "print(' '.join(f'{byte:02x}' for byte in matrix_bytes))\n",
    "print(\"reconstruction:\")\n",
    "print(np.frombuffer(matrix_bytes, dtype=np.int16).reshape(matrix.shape))\n",
    "# 01 00 02 00  03 00 04 00\n",
    "# little-endian reversal:\n",
    "# 00 02 00 01  00 04 00 03\n",
    "# hex -> binary -> dec\n",
    "# 131073 262147\n",
    "print(np.frombuffer(matrix_bytes, dtype=np.int32))"
   ]
  },
  {
   "cell_type": "markdown",
   "id": "e0433e30",
   "metadata": {},
   "source": [
    "#### 33. How to get the dates of yesterday, today and tomorrow? (★☆☆)"
   ]
  },
  {
   "cell_type": "code",
   "execution_count": 67,
   "id": "12231a89",
   "metadata": {},
   "outputs": [
    {
     "name": "stdout",
     "output_type": "stream",
     "text": [
      "19967 days from epoch 1970-01-01 UTC to 2024-09-01 UTC\n",
      "1725223500 seconds from epoch 1970-01-01 00:00:00 UTC to 2024-09-01 20:45:00 UTC\n",
      "hexadecimal in memory:\n",
      "ff 4d 00 00 00 00 00 00\n",
      "4c d2 d4 66 00 00 00 00\n",
      "converting hexadecimal to np.int64\n",
      "[19967]\n",
      "[1725223500]\n"
     ]
    }
   ],
   "source": [
    "print(\"19967 days from epoch 1970-01-01 UTC to 2024-09-01 UTC\")\n",
    "print(f\"{int(19967 * 24 * 60 * 60 + 20.75 * 60 * 60)} seconds from epoch 1970-01-01 00:00:00 UTC to 2024-09-01 20:45:00 UTC\")\n",
    "\n",
    "dt_mem_exp_1 = np.datetime64('2024-09-01T20:45:00', 'D')\n",
    "dt_mem_exp_2 = np.datetime64('2024-09-01T20:45:00', 's')\n",
    "dt_bytes_1 = dt_mem_exp_1.tobytes()\n",
    "dt_bytes_2 = dt_mem_exp_2.tobytes()\n",
    "print(\"hexadecimal in memory:\")\n",
    "print(\" \".join(f\"{byte:02x}\" for byte in dt_bytes_1))\n",
    "print(\" \".join(f\"{byte:02x}\" for byte in dt_bytes_2))\n",
    "print(\"converting hexadecimal to np.int64\")\n",
    "print(np.frombuffer(dt_bytes_1, np.int64))\n",
    "print(np.frombuffer(dt_bytes_2, np.int64))"
   ]
  },
  {
   "cell_type": "code",
   "execution_count": 68,
   "id": "f2f755c6",
   "metadata": {},
   "outputs": [
    {
     "name": "stdout",
     "output_type": "stream",
     "text": [
      "current datetime:\n",
      "2024-09-01T21:45:00\n",
      "current datetime + some time:\n",
      "2024-09-11T21:45:00\n",
      "2024-09-16T21:45:00\n",
      "2024-09-01T22:45:00\n",
      "converting time delta dtype:\n",
      "240 hours\n",
      "2024-09-01T21:45:00 <class 'numpy.datetime64'> datetime64[s]\n",
      "240 hours <class 'numpy.timedelta64'> timedelta64[h]\n"
     ]
    }
   ],
   "source": [
    "dt = np.datetime64('2024-09-01T21:45:00', 's')\n",
    "tdelta_1 = np.timedelta64(10, 'D')\n",
    "tdelta_2 = tdelta_1 + np.timedelta64(5, 'D')\n",
    "tdelta_3 = np.timedelta64(1, 'h')\n",
    "print(\"current datetime:\")\n",
    "print(dt)\n",
    "print(\"current datetime + some time:\")\n",
    "print(dt + tdelta_1)\n",
    "print(dt + tdelta_2)\n",
    "print(dt + tdelta_3)\n",
    "print(\"converting time delta dtype:\")\n",
    "tdelta_1_hrs = tdelta_1.astype('timedelta64[h]')\n",
    "print(tdelta_1_hrs)\n",
    "print(dt, type(dt), dt.dtype)\n",
    "print(tdelta_1_hrs, type(tdelta_1_hrs), tdelta_1_hrs.dtype)"
   ]
  },
  {
   "cell_type": "code",
   "execution_count": 69,
   "id": "6f622609",
   "metadata": {},
   "outputs": [
    {
     "name": "stdout",
     "output_type": "stream",
     "text": [
      "2024-09-15 2024-09-15\n",
      "np_yes:\n",
      "2024-09-14\n",
      "np_tom:\n",
      "2024-09-16\n"
     ]
    }
   ],
   "source": [
    "import datetime\n",
    "py_current_date = datetime.datetime.now().date()\n",
    "np_current_date = np.datetime64(py_current_date)\n",
    "print(py_current_date, np_current_date)\n",
    "np_yes = np_current_date - np.timedelta64(1, 'D')\n",
    "np_tom = np_current_date + np.timedelta64(1, 'D')\n",
    "print(\"np_yes:\")\n",
    "print(np_yes)\n",
    "print(\"np_tom:\")\n",
    "print(np_tom)"
   ]
  },
  {
   "cell_type": "markdown",
   "id": "9f52a2ef",
   "metadata": {},
   "source": [
    "#### 34. How to get all the dates corresponding to the month of July 2016? (★★☆)"
   ]
  },
  {
   "cell_type": "code",
   "execution_count": 70,
   "id": "d6c34dec",
   "metadata": {},
   "outputs": [
    {
     "name": "stdout",
     "output_type": "stream",
     "text": [
      "['2016-07-01' '2016-07-02' '2016-07-03' '2016-07-04' '2016-07-05'\n",
      " '2016-07-06' '2016-07-07' '2016-07-08' '2016-07-09' '2016-07-10'\n",
      " '2016-07-11' '2016-07-12' '2016-07-13' '2016-07-14' '2016-07-15'\n",
      " '2016-07-16' '2016-07-17' '2016-07-18' '2016-07-19' '2016-07-20'\n",
      " '2016-07-21' '2016-07-22' '2016-07-23' '2016-07-24' '2016-07-25'\n",
      " '2016-07-26' '2016-07-27' '2016-07-28' '2016-07-29' '2016-07-30'\n",
      " '2016-07-31'] <class 'numpy.ndarray'> datetime64[D]\n"
     ]
    }
   ],
   "source": [
    "all_the_dates = np.arange('2016-07', '2016-08', dtype='datetime64[D]')\n",
    "print(all_the_dates, type(all_the_dates), all_the_dates.dtype)"
   ]
  },
  {
   "cell_type": "markdown",
   "id": "4a64e059",
   "metadata": {},
   "source": [
    "#### 35. How to compute ((A+B)*(-A/2)) in place (without copy)? (★★☆)"
   ]
  },
  {
   "cell_type": "code",
   "execution_count": 71,
   "id": "49267f60",
   "metadata": {},
   "outputs": [
    {
     "name": "stdout",
     "output_type": "stream",
     "text": [
      "[1 2 3] [4 5 6] [ -2.5  -7.  -13.5]\n"
     ]
    }
   ],
   "source": [
    "A = np.array([1, 2, 3])\n",
    "B = np.array([4, 5, 6])\n",
    "C = np.zeros(3)\n",
    "np.multiply(np.add(A, B), np.divide(A, -2), out=C)\n",
    "# 5    7    9\n",
    "# -0.5 -1   -1.5\n",
    "# -2.5 -7   -13.5\n",
    "print(A, B, C)"
   ]
  },
  {
   "cell_type": "markdown",
   "id": "8a98c2a8",
   "metadata": {},
   "source": [
    "#### 36. Extract the integer part of a random array of positive numbers using 4 different methods (★★☆)"
   ]
  },
  {
   "cell_type": "code",
   "execution_count": 72,
   "id": "044af11b",
   "metadata": {},
   "outputs": [
    {
     "data": {
      "text/plain": [
       "array([3.83404, 4.44065, 3.00023, 3.60467, 3.29351])"
      ]
     },
     "execution_count": 72,
     "metadata": {},
     "output_type": "execute_result"
    }
   ],
   "source": [
    "np.random.seed(1)\n",
    "arr = 2 * np.random.rand(5) + 3\n",
    "arr"
   ]
  },
  {
   "cell_type": "code",
   "execution_count": 73,
   "id": "3d07bd01",
   "metadata": {},
   "outputs": [
    {
     "name": "stdout",
     "output_type": "stream",
     "text": [
      "[3.83404 4.44065 3.00023 3.60467 3.29351]\n",
      "[3. 4. 3. 3. 3.]\n"
     ]
    }
   ],
   "source": [
    "np.random.seed(1)\n",
    "arr_1 = 2 * np.random.rand(5) + 3\n",
    "print(arr_1)\n",
    "arr_1 = arr_1 - arr_1 % 1\n",
    "print(arr_1)"
   ]
  },
  {
   "cell_type": "code",
   "execution_count": 74,
   "id": "ebe8dbbc",
   "metadata": {},
   "outputs": [
    {
     "name": "stdout",
     "output_type": "stream",
     "text": [
      "[3.83404 4.44065 3.00023 3.60467 3.29351]\n",
      "[3. 4. 3. 3. 3.]\n"
     ]
    }
   ],
   "source": [
    "np.random.seed(1)\n",
    "arr_2 = 2 * np.random.rand(5) + 3\n",
    "print(arr_2)\n",
    "arr_2 = np.floor(arr_2)\n",
    "print(arr_2)"
   ]
  },
  {
   "cell_type": "code",
   "execution_count": 75,
   "id": "e8763f86",
   "metadata": {},
   "outputs": [
    {
     "name": "stdout",
     "output_type": "stream",
     "text": [
      "[3.83404 4.44065 3.00023 3.60467 3.29351]\n",
      "[3 4 3 3 3]\n"
     ]
    }
   ],
   "source": [
    "np.random.seed(1)\n",
    "arr_3 = 2 * np.random.rand(5) + 3\n",
    "print(arr_3)\n",
    "arr_3 = arr_3.astype(np.int32)\n",
    "print(arr_3)"
   ]
  },
  {
   "cell_type": "code",
   "execution_count": 76,
   "id": "368130b3",
   "metadata": {},
   "outputs": [
    {
     "name": "stdout",
     "output_type": "stream",
     "text": [
      "[3.83404 4.44065 3.00023 3.60467 3.29351]\n",
      "[3. 4. 3. 3. 3.]\n"
     ]
    }
   ],
   "source": [
    "np.random.seed(1)\n",
    "arr_4 = 2 * np.random.rand(5) + 3\n",
    "print(arr_4)\n",
    "arr_4 = np.trunc(arr_4)\n",
    "print(arr_4)"
   ]
  },
  {
   "cell_type": "markdown",
   "id": "5a2e3d85",
   "metadata": {},
   "source": [
    "#### 37. Create a 5x5 matrix with row values ranging from 0 to 4 (★★☆)"
   ]
  },
  {
   "cell_type": "code",
   "execution_count": 77,
   "id": "1d974e8f",
   "metadata": {},
   "outputs": [
    {
     "data": {
      "text/plain": [
       "array([[0, 1, 2, 3, 4],\n",
       "       [0, 1, 2, 3, 4],\n",
       "       [0, 1, 2, 3, 4],\n",
       "       [0, 1, 2, 3, 4],\n",
       "       [0, 1, 2, 3, 4]])"
      ]
     },
     "execution_count": 77,
     "metadata": {},
     "output_type": "execute_result"
    }
   ],
   "source": [
    "arr = np.array([range(5)] * 5)\n",
    "arr"
   ]
  },
  {
   "cell_type": "code",
   "execution_count": 78,
   "id": "50086204",
   "metadata": {},
   "outputs": [
    {
     "name": "stdout",
     "output_type": "stream",
     "text": [
      "[[0 1 2 3 4]\n",
      " [0 1 2 3 4]\n",
      " [0 1 2 3 4]\n",
      " [0 1 2 3 4]\n",
      " [0 1 2 3 4]] [[ True  True  True  True  True]\n",
      " [ True  True  True  True  True]\n",
      " [ True  True  True  True  True]\n",
      " [ True  True  True  True  True]\n",
      " [ True  True  True  True  True]]\n"
     ]
    }
   ],
   "source": [
    "arr_ano = np.tile(np.arange(5), (5, 1))\n",
    "print(arr_ano, arr == arr_ano)"
   ]
  },
  {
   "cell_type": "markdown",
   "id": "9720e2d5",
   "metadata": {},
   "source": [
    "#### 38. Consider a generator function that generates 10 integers and use it to build an array (★☆☆)"
   ]
  },
  {
   "cell_type": "code",
   "execution_count": 79,
   "id": "e5dd8fc9",
   "metadata": {},
   "outputs": [
    {
     "name": "stdout",
     "output_type": "stream",
     "text": [
      "the type of gen_func: <class 'function'>\n",
      "the type of gen_func(3): <class 'generator'>\n",
      "[0 1 2 3 4 5 6 7 8 9] <class 'numpy.ndarray'> int32\n"
     ]
    }
   ],
   "source": [
    "def gen_func(limit):\n",
    "    num = 0\n",
    "    while num < limit:\n",
    "        yield num\n",
    "        num += 1\n",
    "\n",
    "print(\"the type of gen_func:\", type(gen_func))\n",
    "print(\"the type of gen_func(3):\", type(gen_func(3)))\n",
    "arr = np.fromiter(gen_func(10), dtype=np.int32)\n",
    "print(arr, type(arr), arr.dtype)"
   ]
  },
  {
   "cell_type": "code",
   "execution_count": 80,
   "id": "babad020",
   "metadata": {},
   "outputs": [
    {
     "name": "stdout",
     "output_type": "stream",
     "text": [
      "'list' object is not an iterator\n",
      "iterable is not iterator\n"
     ]
    }
   ],
   "source": [
    "my_list = [1, 2, 3]\n",
    "\n",
    "try:\n",
    "    next(my_list)\n",
    "except TypeError as e:\n",
    "    print(e)\n",
    "print(\"iterable is not iterator\")"
   ]
  },
  {
   "cell_type": "code",
   "execution_count": 81,
   "id": "728147b8",
   "metadata": {},
   "outputs": [
    {
     "name": "stdout",
     "output_type": "stream",
     "text": [
      "<class 'list_iterator'>\n",
      "can be called next(): 1\n",
      "can be looped over: 2\n",
      "can be looped over: 3\n",
      "<class 'StopIteration'>\n"
     ]
    }
   ],
   "source": [
    "my_iterator = iter(my_list)\n",
    "print(type(my_iterator))\n",
    "\n",
    "# apply next() method to iterator\n",
    "print(\"can be called next():\", next(my_iterator))\n",
    "\n",
    "# iterator is also a iterable\n",
    "# iter(iterator)\n",
    "my_iterator = iter(my_iterator)\n",
    "\n",
    "# apply for loop to a iterator\n",
    "for item in my_iterator:\n",
    "    print(\"can be looped over:\", item)\n",
    "    \n",
    "try:\n",
    "    print(next(my_iterator))\n",
    "except StopIteration as e:\n",
    "    print(type(e))"
   ]
  },
  {
   "cell_type": "code",
   "execution_count": 82,
   "id": "036c0c61",
   "metadata": {},
   "outputs": [
    {
     "name": "stdout",
     "output_type": "stream",
     "text": [
      "<class 'generator'>\n",
      "Using next(): 0\n",
      "Using for loop: 1 2 3 4\n"
     ]
    }
   ],
   "source": [
    "# iterable: can be looped over\n",
    "# iterator: can be looped over and can be called next()\n",
    "# generator: a special type of iterator\n",
    "# generator object only saves the status, not doing pre-computation\n",
    "def yield_a_num(limit):\n",
    "    num = 0\n",
    "    while num < limit:\n",
    "        yield num\n",
    "        num += 1\n",
    "fetch = yield_a_num(5)\n",
    "print(type(fetch))\n",
    "print(\"Using next():\", next(fetch))\n",
    "print(\"Using for loop: \" + \" \".join(f\"{ele}\" for ele in fetch))"
   ]
  },
  {
   "cell_type": "code",
   "execution_count": 83,
   "id": "b98f2b14",
   "metadata": {},
   "outputs": [
    {
     "name": "stdout",
     "output_type": "stream",
     "text": [
      "<zip object at 0x0000029001559C40>\n",
      "<class 'zip'>\n",
      "(3, 7)\n",
      "<class 'tuple'>\n",
      "(2, 8)\n",
      "<class 'tuple'>\n",
      "(1, 9)\n",
      "<class 'tuple'>\n",
      "<class 'StopIteration'>\n"
     ]
    }
   ],
   "source": [
    "tuple1 = (3, 2, 1)\n",
    "list1 = [7, 8, 9]\n",
    "zip1 = zip(tuple1, list1)\n",
    "print(zip1)\n",
    "print(type(zip1))\n",
    "\n",
    "for pair in zip1:\n",
    "    print(pair)\n",
    "    print(type(pair))\n",
    "\n",
    "try:\n",
    "    next(zip1)\n",
    "except StopIteration as e:\n",
    "    print(type(e))"
   ]
  },
  {
   "cell_type": "markdown",
   "id": "c6f2c912",
   "metadata": {},
   "source": [
    "#### 39. Create a vector of size 10 with values ranging from 0 to 1, both excluded (★★☆)"
   ]
  },
  {
   "cell_type": "code",
   "execution_count": 84,
   "id": "6aaa27d3",
   "metadata": {},
   "outputs": [
    {
     "name": "stdout",
     "output_type": "stream",
     "text": [
      "[0.  0.1 0.2 0.3 0.4 0.5 0.6 0.7 0.8 0.9 1. ]\n",
      "[0.  0.1 0.2 0.3 0.4 0.5 0.6 0.7 0.8 0.9]\n",
      "[0.1 0.2 0.3 0.4 0.5 0.6 0.7 0.8 0.9]\n",
      "[0.1 0.2 0.3 0.4 0.5 0.6 0.7 0.8 0.9]\n",
      "[0.09091 0.18182 0.27273 0.36364 0.45455 0.54545 0.63636 0.72727 0.81818\n",
      " 0.90909] (10,)\n",
      "[0.      0.09091 0.18182 0.27273 0.36364 0.45455 0.54545 0.63636 0.72727\n",
      " 0.81818 0.90909 1.     ]\n"
     ]
    }
   ],
   "source": [
    "vec_start_ex = np.linspace(0, 1, endpoint=True, num=11)\n",
    "vec_end_ex = np.linspace(0, 1, endpoint=False, num=10)\n",
    "print(vec_start_ex)\n",
    "print(vec_end_ex)\n",
    "vec = vec_end_ex[1:]\n",
    "print(vec)\n",
    "vec = vec_start_ex[1:10]\n",
    "print(vec)\n",
    "\n",
    "vec_39 = np.linspace(0, 1, endpoint=False, num=11)[1:]\n",
    "print(vec_39, vec_39.shape)\n",
    "vec_39_ano = np.linspace(0, 1, endpoint=True, num=12)\n",
    "print(vec_39_ano)"
   ]
  },
  {
   "cell_type": "code",
   "execution_count": 85,
   "id": "7f839264",
   "metadata": {},
   "outputs": [
    {
     "data": {
      "text/plain": [
       "'numpy advanced indexing'"
      ]
     },
     "execution_count": 85,
     "metadata": {},
     "output_type": "execute_result"
    }
   ],
   "source": [
    "\"\"\"numpy advanced indexing\"\"\""
   ]
  },
  {
   "cell_type": "code",
   "execution_count": 86,
   "id": "33f68e58",
   "metadata": {},
   "outputs": [
    {
     "name": "stdout",
     "output_type": "stream",
     "text": [
      "2\n",
      "2\n",
      "[[1 2]\n",
      " [3 4]]\n",
      "[[1 2]\n",
      " [3 4]]\n",
      "[[1 2]\n",
      " [3 4]]\n",
      "[[1 2]\n",
      " [3 4]]\n",
      "2\n"
     ]
    }
   ],
   "source": [
    "\"\"\"integer indexing\"\"\"\n",
    "x = np.array([[1, 2], [3, 4], [5, 6]])\n",
    "a_0 = x[0, 1]\n",
    "a_1 = x[(0, 1)]\n",
    "a_2 = x[(0, 1), ]\n",
    "a_3 = x[[0, 1]]\n",
    "a_4 = x[[0, 1], ]\n",
    "a_5 = x[np.array([0, 1])]\n",
    "print(a_0)\n",
    "print(a_1)\n",
    "print(a_2)\n",
    "print(a_3)\n",
    "print(a_4)\n",
    "print(a_5)\n",
    "g = (0, 1)\n",
    "h = x[g]\n",
    "print(h)"
   ]
  },
  {
   "cell_type": "code",
   "execution_count": 87,
   "id": "67c56962",
   "metadata": {},
   "outputs": [
    {
     "name": "stdout",
     "output_type": "stream",
     "text": [
      "arr:\n",
      "[1 2 3 4]\n",
      "the shape of arr:\n",
      "(4,)\n",
      "arr_row\n",
      "[[1 2 3 4]]\n",
      "(1, 4)\n",
      "arr_col\n",
      "[[1]\n",
      " [2]\n",
      " [3]\n",
      " [4]]\n",
      "(4, 1)\n"
     ]
    }
   ],
   "source": [
    "arr = np.array([1, 2, 3, 4])\n",
    "print(\"arr:\")\n",
    "print(arr)\n",
    "print(\"the shape of arr:\")\n",
    "print(arr.shape)\n",
    "arr_row = arr[np.newaxis, :]\n",
    "arr_col = arr[:, np.newaxis]\n",
    "print(\"arr_row\")\n",
    "print(arr_row)\n",
    "print(arr_row.shape)\n",
    "print(\"arr_col\")\n",
    "print(arr_col)\n",
    "print(arr_col.shape)"
   ]
  },
  {
   "cell_type": "code",
   "execution_count": 88,
   "id": "1b1e81be",
   "metadata": {},
   "outputs": [
    {
     "name": "stdout",
     "output_type": "stream",
     "text": [
      "[40 20 50]\n",
      "essence: using indices in arr2 to select elements from arr1\n",
      "result_1\n",
      "[30 50 70]\n",
      "result_2\n",
      "[[30 20 10]\n",
      " [60 50 40]\n",
      " [90 80 70]]\n",
      "result_3\n",
      "[[20 30]\n",
      " [80 90]]\n",
      "result_4\n",
      "IndexError: \n",
      "shape mismatch: indexing arrays could not be broadcast together with shapes (3,) (2,) \n"
     ]
    }
   ],
   "source": [
    "arr1 = np.array([10, 20, 30, 40, 50])\n",
    "arr2 = np.array([3, 1, 4])\n",
    "print(arr1[arr2])\n",
    "print(\"essence: using indices in arr2 to select elements from arr1\")\n",
    "\n",
    "arr = np.array([[10, 20, 30],\n",
    "                [40, 50, 60],\n",
    "                [70, 80, 90]])\n",
    "row_indices = np.array([0, 1, 2])\n",
    "col_indices = np.array([2, 1, 0])\n",
    "\n",
    "result_1 = arr[row_indices, col_indices]\n",
    "# 0 2\n",
    "# 1 1\n",
    "# 2 0\n",
    "# answer: 30 50 70\n",
    "print(\"result_1\")\n",
    "print(result_1)\n",
    "\n",
    "result_2 = arr[row_indices[:, np.newaxis], col_indices]\n",
    "# 0 0 0    2 1 0\n",
    "# 1 1 1    2 1 0 \n",
    "# 2 2 2    2 1 0\n",
    "# answer: 30 20 10\n",
    "#         60 50 40\n",
    "#         90 80 70\n",
    "print(\"result_2\")\n",
    "print(result_2)\n",
    "\n",
    "rows = np.array([[0, 0],\n",
    "                 [2, 2]])\n",
    "cols = np.array([[1, 2],\n",
    "                 [1, 2]])\n",
    "# answer: 20 30\n",
    "#         80 90\n",
    "result_3 = arr[rows, cols]\n",
    "print(\"result_3\")\n",
    "print(result_3)\n",
    "\n",
    "try:\n",
    "    result_4 = arr[[0, 1, 2], [1, 2]]\n",
    "except IndexError as e:\n",
    "    print(\"result_4\")\n",
    "    print(f\"IndexError: \\n{e}\")"
   ]
  },
  {
   "cell_type": "code",
   "execution_count": 89,
   "id": "535d83e9",
   "metadata": {},
   "outputs": [
    {
     "name": "stdout",
     "output_type": "stream",
     "text": [
      "Original array: [3 2 1 2 3 4 2 1 3]\n",
      "Unique values: [1 2 3 4]\n"
     ]
    }
   ],
   "source": [
    "arr = np.array([3, 2, 1, 2, 3, 4, 2, 1, 3])\n",
    "unique_values = np.unique(arr)\n",
    "print(\"Original array:\", arr)\n",
    "print(\"Unique values:\", unique_values)"
   ]
  },
  {
   "cell_type": "code",
   "execution_count": 90,
   "id": "f5e937c3",
   "metadata": {},
   "outputs": [
    {
     "name": "stdout",
     "output_type": "stream",
     "text": [
      "[1 2 3] [1 4 7] [1 2 3]\n",
      "[[1 2]\n",
      " [4 5]\n",
      " [7 8]]\n",
      "[[ True  True]\n",
      " [ True  True]\n",
      " [ True  True]]\n"
     ]
    }
   ],
   "source": [
    "arr = np.array([[1, 2, 3], [4, 5, 6], [7, 8, 9]])\n",
    "print(arr[0], arr[:, 0], arr[0, :])\n",
    "print(arr[:, [0, 1]])\n",
    "print(arr[:, [0, 1]] == arr[:, (0, 1)])"
   ]
  },
  {
   "cell_type": "code",
   "execution_count": 91,
   "id": "47711734",
   "metadata": {},
   "outputs": [
    {
     "name": "stdout",
     "output_type": "stream",
     "text": [
      "[[1 2 0]\n",
      " [1 2 3]\n",
      " [2 2 3]] [1 0 3] [1 0 1 2] [1 2 1]\n",
      "reconstruction:\n",
      "[[1 2 3]\n",
      " [1 2 0]\n",
      " [1 2 3]\n",
      " [2 2 3]]\n",
      "\n",
      "[[1 2 3]\n",
      " [1 2 0]\n",
      " [1 2 3]\n",
      " [2 2 3]] [0 1 2] [0 1 2] [1 1 1]\n",
      "reconstruction1:\n",
      "[[1 2 3]\n",
      " [1 2 0]\n",
      " [1 2 3]]\n",
      "reconstruction2:\n",
      "[[1 2 3]\n",
      " [1 2 0]\n",
      " [1 2 3]\n",
      " [2 2 3]]\n",
      "Note that when axis=1, the unique_inverse is still a 1-d array\n",
      "(since I am finding unique columns).\n"
     ]
    }
   ],
   "source": [
    "arr = np.array([[1, 2, 3], [1, 2, 0], [1, 2, 3], [2, 2, 3]])\n",
    "unique_values, unique_idx, unique_inverse, unique_cnts = np.unique(\n",
    "    arr, return_index=True, return_inverse=True, return_counts=True, axis=0)\n",
    "print(unique_values, unique_idx, unique_inverse, unique_cnts)\n",
    "print(\"reconstruction:\")\n",
    "print(unique_values[unique_inverse])\n",
    "print()\n",
    "unique_values, unique_idx, unique_inverse, unique_cnts = np.unique(\n",
    "    arr, return_index=True, return_inverse=True, return_counts=True, axis=1)\n",
    "print(unique_values, unique_idx, unique_inverse, unique_cnts)\n",
    "print(\"reconstruction1:\")\n",
    "print(unique_values[unique_inverse])\n",
    "print(\"reconstruction2:\")\n",
    "print(unique_values[:, unique_inverse])\n",
    "print(\"Note that when axis=1, the unique_inverse is still a 1-d array\\n(since I am finding unique columns).\")\n",
    "# axis distinction"
   ]
  },
  {
   "cell_type": "markdown",
   "id": "a36d6ee4",
   "metadata": {},
   "source": [
    "#### 40. Create a random vector of size 10 and sort it (★★☆)"
   ]
  },
  {
   "cell_type": "code",
   "execution_count": 92,
   "id": "47c62a33",
   "metadata": {},
   "outputs": [
    {
     "name": "stdout",
     "output_type": "stream",
     "text": [
      "[0.40769 0.05537 0.78853 0.28731 0.45035 0.30391 0.5264  0.62381 0.77678\n",
      " 0.68624]\n",
      "[0.05537 0.28731 0.30391 0.40769 0.45035 0.5264  0.62381 0.68624 0.77678\n",
      " 0.78853]\n",
      "[1 3 5 0 4 6 7 9 8 2]\n",
      "recon:\n",
      "[0.05537 0.28731 0.30391 0.40769 0.45035 0.5264  0.62381 0.68624 0.77678\n",
      " 0.78853]\n",
      "[[1 0 2]\n",
      " [3 2 3]\n",
      " [5 7 5]]\n",
      "[[2 3 5]\n",
      " [2 5 7]\n",
      " [0 1 3]]\n"
     ]
    }
   ],
   "source": [
    "np.random.seed(40)\n",
    "arr = np.random.uniform(0, 1, 10)\n",
    "arr_sorted = np.sort(arr)\n",
    "arr_idx = np.argsort(arr)\n",
    "print(arr)\n",
    "print(arr_sorted)\n",
    "print(arr_idx)\n",
    "print(\"recon:\")\n",
    "print(arr[arr_idx])\n",
    "\n",
    "arr_ano = np.array([[3, 2, 5], [5, 7, 2], [1, 0, 3]])\n",
    "st_1 = np.sort(arr_ano, axis=0)\n",
    "print(st_1)\n",
    "st_2 = np.sort(arr_ano, axis=1)\n",
    "print(st_2)\n",
    "# axis distinction"
   ]
  },
  {
   "cell_type": "markdown",
   "id": "0fb4ad68",
   "metadata": {},
   "source": [
    "#### 41. How to sum a small array faster than np.sum? (★★☆)"
   ]
  },
  {
   "cell_type": "code",
   "execution_count": 93,
   "id": "a1ba05a0",
   "metadata": {},
   "outputs": [
    {
     "name": "stdout",
     "output_type": "stream",
     "text": [
      "np.sum time: 0.246171 seconds\n",
      "np.add.reduce time: 0.254576 seconds\n",
      "the difference is about -3.41%\n"
     ]
    }
   ],
   "source": [
    "import timeit\n",
    "size = 10 ** 6\n",
    "arr = np.random.randn(size)\n",
    "def sum_with_sum():\n",
    "    return np.sum(arr)\n",
    "def sum_with_reduce():\n",
    "    return np.add.reduce(arr)\n",
    "\n",
    "time_sum = timeit.timeit(sum_with_sum, number=1000)\n",
    "time_reduce = timeit.timeit(sum_with_reduce, number=1000)\n",
    "print(f\"np.sum time: {time_sum:.6f} seconds\")\n",
    "print(f\"np.add.reduce time: {time_reduce:.6f} seconds\")\n",
    "print(f\"the difference is about {(time_sum-time_reduce)/time_sum:.2%}\")"
   ]
  },
  {
   "cell_type": "markdown",
   "id": "024ac365",
   "metadata": {},
   "source": [
    "#### 42. Consider two random array A and B, check if they are equal (★★☆)"
   ]
  },
  {
   "cell_type": "code",
   "execution_count": 94,
   "id": "7db3846d",
   "metadata": {},
   "outputs": [
    {
     "name": "stdout",
     "output_type": "stream",
     "text": [
      "True\n",
      "False\n",
      "False\n",
      "relative tolerance = (A1 - A2)/A2\n"
     ]
    }
   ],
   "source": [
    "array1 = np.array([1.0, 2.0, 3.0000001])\n",
    "array2 = np.array([1.0, 2.0, 3.0])\n",
    "print(np.allclose(array1, array2, rtol=3.4e-8, atol=1e-10))\n",
    "print(np.allclose(array1, array2, rtol=3.3e-8, atol=1e-10))\n",
    "print(np.array_equal(array1, array2))\n",
    "print(\"relative tolerance = (A1 - A2)/A2\")"
   ]
  },
  {
   "cell_type": "markdown",
   "id": "c68d2401",
   "metadata": {},
   "source": [
    "#### 43. Make an array immutable (read-only) (★★☆)"
   ]
  },
  {
   "cell_type": "code",
   "execution_count": 95,
   "id": "7828539d",
   "metadata": {},
   "outputs": [
    {
     "name": "stdout",
     "output_type": "stream",
     "text": [
      "assignment destination is read-only\n"
     ]
    }
   ],
   "source": [
    "arr = np.array([1, 2, 3])\n",
    "arr.flags['WRITEABLE'] = False\n",
    "try:\n",
    "    arr[2] = 7\n",
    "except ValueError as e:\n",
    "    print(e)"
   ]
  },
  {
   "cell_type": "markdown",
   "id": "55df6280",
   "metadata": {},
   "source": [
    "#### 44. Consider a random 10x2 matrix representing cartesian coordinates, convert them to polar coordinates (★★☆)"
   ]
  },
  {
   "cell_type": "code",
   "execution_count": 96,
   "id": "a66b790c",
   "metadata": {},
   "outputs": [
    {
     "name": "stdout",
     "output_type": "stream",
     "text": [
      "-0.7853981633974483 2.356194490192345 -0.7853981633974483\n"
     ]
    }
   ],
   "source": [
    "\"\"\"make a comparision between np.arctan() and np.arctan2()\"\"\"\n",
    "a = np.arctan(2/-2)  # 135° or 0.75pi=2.35619449\n",
    "b = np.arctan2(2, -2)\n",
    "c = np.arctan2(-2, 2)\n",
    "print(a, b, c)"
   ]
  },
  {
   "cell_type": "code",
   "execution_count": 97,
   "id": "51de3af7",
   "metadata": {},
   "outputs": [
    {
     "name": "stdout",
     "output_type": "stream",
     "text": [
      "[[-0.75061  1.31636]\n",
      " [ 1.24614 -1.60492]\n",
      " [-1.46814 -1.71507]\n",
      " [ 1.85878  0.08759]\n",
      " [-0.05232  0.55547]\n",
      " [-0.9634  -0.18032]\n",
      " [-1.18341  0.60545]\n",
      " [-0.95165  0.36086]\n",
      " [ 1.06061 -0.11715]\n",
      " [ 0.82566 -1.20981]]\n",
      "[ 2.08903 -0.91058 -2.27878  0.04709  1.66471 -2.95656  2.6687   2.77915\n",
      " -0.11001 -0.97193] (10,)\n",
      "[1.51533 2.0319  2.25763 1.86085 0.55793 0.98013 1.32929 1.01777 1.06706\n",
      " 1.46471] (10,)\n",
      "[[ 1.51533  2.08903]\n",
      " [ 2.0319  -0.91058]\n",
      " [ 2.25763 -2.27878]\n",
      " [ 1.86085  0.04709]\n",
      " [ 0.55793  1.66471]\n",
      " [ 0.98013 -2.95656]\n",
      " [ 1.32929  2.6687 ]\n",
      " [ 1.01777  2.77915]\n",
      " [ 1.06706 -0.11001]\n",
      " [ 1.46471 -0.97193]]\n"
     ]
    }
   ],
   "source": [
    "np.random.seed(44)\n",
    "arr = np.random.randn(10, 2)\n",
    "print(arr)\n",
    "theta = np.arctan2(arr[:, 1], arr[:, 0])\n",
    "print(theta, theta.shape)\n",
    "r = np.sqrt(arr[:, 0] ** 2 + arr[:, 1] ** 2)\n",
    "print(r, r.shape)\n",
    "polar_coordinates = np.stack((r, theta), axis=1)\n",
    "print(polar_coordinates)"
   ]
  },
  {
   "cell_type": "markdown",
   "id": "2f60f1ec",
   "metadata": {},
   "source": [
    "#### 45. Create random vector of size 10 and replace the maximum value by 0 (★★☆)"
   ]
  },
  {
   "cell_type": "code",
   "execution_count": 98,
   "id": "d9f48f1c",
   "metadata": {},
   "outputs": [
    {
     "name": "stdout",
     "output_type": "stream",
     "text": [
      "[[ 0.02637  0.26032 -0.39515 -0.2043  -1.27163]\n",
      " [-2.59688  0.28968 -0.8733   0.39407  0.93511]]\n",
      "9\n",
      "[0 1 0 1 1]\n",
      "[1 4]\n",
      "[[ 0.02637  0.26032 -0.39515 -0.2043  -1.27163]\n",
      " [-2.59688  0.28968 -0.8733   0.39407  0.     ]]\n",
      "[[ 1.       0.26032  1.      -0.2043  -1.27163]\n",
      " [-2.59688  1.      -0.8733   1.       1.     ]]\n",
      "[[ 0.02637  2.      -0.39515 -0.2043  -1.27163]\n",
      " [-2.59688  0.28968 -0.8733   0.39407  2.     ]]\n"
     ]
    }
   ],
   "source": [
    "np.random.seed(45)\n",
    "arr = np.random.randn(10).reshape(2, 5)\n",
    "idx = np.argmax(arr)\n",
    "idx_0 = np.argmax(arr, axis=0)\n",
    "idx_1 = np.argmax(arr, axis=1)\n",
    "print(arr)\n",
    "print(idx)\n",
    "print(idx_0)\n",
    "print(idx_1)\n",
    "arr_new = arr.copy()\n",
    "arr_new[np.unravel_index(idx, arr.shape)] = 0\n",
    "print(arr_new)\n",
    "arr_new_0 = arr.copy()\n",
    "arr_new_0[idx_0, np.arange(arr.shape[1])] = 1\n",
    "print(arr_new_0)\n",
    "arr_new_1 = arr.copy()\n",
    "arr_new_1[np.arange(arr.shape[0]), idx_1] = 2\n",
    "print(arr_new_1)"
   ]
  },
  {
   "cell_type": "code",
   "execution_count": 99,
   "id": "f40d0fa2",
   "metadata": {},
   "outputs": [
    {
     "name": "stdout",
     "output_type": "stream",
     "text": [
      "the shape of array1 is: (3, 4)\n",
      "the shape of array2 is: (3, 4)\n",
      "Stacked along axis 0:\n",
      " [[[ 1  2  3  4]\n",
      "  [ 5  6  7  8]\n",
      "  [ 9 10 11 12]]\n",
      "\n",
      " [[13 14 15 16]\n",
      "  [17 18 19 20]\n",
      "  [21 22 23 24]]] (2, 3, 4)\n",
      "\n",
      "Stacked along axis 1:\n",
      " [[[ 1  2  3  4]\n",
      "  [13 14 15 16]]\n",
      "\n",
      " [[ 5  6  7  8]\n",
      "  [17 18 19 20]]\n",
      "\n",
      " [[ 9 10 11 12]\n",
      "  [21 22 23 24]]] (3, 2, 4)\n",
      "\n",
      "Stacked along axis 2:\n",
      " [[[ 1 13]\n",
      "  [ 2 14]\n",
      "  [ 3 15]\n",
      "  [ 4 16]]\n",
      "\n",
      " [[ 5 17]\n",
      "  [ 6 18]\n",
      "  [ 7 19]\n",
      "  [ 8 20]]\n",
      "\n",
      " [[ 9 21]\n",
      "  [10 22]\n",
      "  [11 23]\n",
      "  [12 24]]] (3, 4, 2)\n"
     ]
    }
   ],
   "source": [
    "\"\"\"np.stack: create a new axis\"\"\"\n",
    "array1 = np.array([[1, 2, 3, 4], [5, 6, 7, 8], [9, 10, 11, 12]])\n",
    "array2 = np.array([[13, 14, 15, 16], [17, 18, 19, 20], [21, 22, 23, 24]])\n",
    "print(\"the shape of array1 is:\", array1.shape)\n",
    "print(\"the shape of array2 is:\", array2.shape)\n",
    "\n",
    "stacked_axis0 = np.stack((array1, array2), axis=0)\n",
    "print(\"Stacked along axis 0:\\n\", stacked_axis0, stacked_axis0.shape)\n",
    "\n",
    "stacked_axis1 = np.stack((array1, array2), axis=1)\n",
    "print(\"\\nStacked along axis 1:\\n\", stacked_axis1, stacked_axis1.shape)\n",
    "\n",
    "stacked_axis2 = np.stack((array1, array2), axis=2)\n",
    "print(\"\\nStacked along axis 2:\\n\", stacked_axis2, stacked_axis2.shape)"
   ]
  },
  {
   "cell_type": "code",
   "execution_count": 100,
   "id": "7d8f49fb",
   "metadata": {},
   "outputs": [
    {
     "name": "stdout",
     "output_type": "stream",
     "text": [
      "Concatenated (axis=0):\n",
      "[[1 2]\n",
      " [3 4]\n",
      " [5 6]\n",
      " [7 8]]\n",
      "Shape: (4, 2)\n",
      "\n",
      "Concatenated (axis=1):\n",
      "[[1 2 5 6]\n",
      " [3 4 7 8]]\n",
      "Shape: (2, 4)\n",
      "\n",
      "Stacked:\n",
      "[[[1 2]\n",
      "  [3 4]]\n",
      "\n",
      " [[5 6]\n",
      "  [7 8]]]\n",
      "Shape: (2, 2, 2)\n",
      "\n",
      "Stacked:\n",
      "[[[1 2]\n",
      "  [5 6]]\n",
      "\n",
      " [[3 4]\n",
      "  [7 8]]]\n",
      "Shape: (2, 2, 2)\n",
      "\n",
      "Stacked:\n",
      "[[[1 5]\n",
      "  [2 6]]\n",
      "\n",
      " [[3 7]\n",
      "  [4 8]]]\n",
      "Shape: (2, 2, 2)\n",
      "[1, 5] means:\n",
      "1 is from the first row, first column of a\n",
      "5 is from the first row, first column of b\n",
      "And [2, 6] means:\n",
      "2 is from the first row, second column of a\n",
      "6 is from the first row, second column of b\n"
     ]
    }
   ],
   "source": [
    "\"\"\"np.concatenate: along an existing axis\"\"\"\n",
    "a = np.array([[1, 2], [3, 4]])\n",
    "b = np.array([[5, 6], [7, 8]])\n",
    "\n",
    "concat_0 = np.concatenate((a, b), axis=0)\n",
    "print(\"Concatenated (axis=0):\")\n",
    "print(concat_0)\n",
    "print(\"Shape:\", concat_0.shape)\n",
    "\n",
    "concat_1 = np.concatenate((a, b), axis=1)\n",
    "print(\"\\nConcatenated (axis=1):\")\n",
    "print(concat_1)\n",
    "print(\"Shape:\", concat_1.shape)\n",
    "\n",
    "stacked_0 = np.stack((a, b))\n",
    "print(\"\\nStacked:\")\n",
    "print(stacked_0)\n",
    "print(\"Shape:\", stacked_0.shape)\n",
    "\n",
    "stacked_1 = np.stack((a, b), axis=1)\n",
    "print(\"\\nStacked:\")\n",
    "print(stacked_1)\n",
    "print(\"Shape:\", stacked_1.shape)\n",
    "\n",
    "stacked_2 = np.stack((a, b), axis=2)\n",
    "print(\"\\nStacked:\")\n",
    "print(stacked_2)\n",
    "print(\"Shape:\", stacked_2.shape)\n",
    "print(\"[1, 5] means:\\n1 is from the first row, first column of a\\n5 is from the first row, first column of b\\nAnd [2, 6] means:\\n2 is from the first row, second column of a\\n6 is from the first row, second column of b\")"
   ]
  },
  {
   "cell_type": "code",
   "execution_count": 101,
   "id": "2777e364",
   "metadata": {},
   "outputs": [
    {
     "name": "stdout",
     "output_type": "stream",
     "text": [
      "[array([1, 2]), array([3, 4]), array([5, 6]), array([7, 8])]\n",
      "[array([1, 2]), array([3, 4]), array([5, 6]), array([7]), array([8])]\n",
      "[array([1, 2, 3]), array([4, 5]), array([6, 7, 8])]\n",
      "<class 'list'>\n"
     ]
    }
   ],
   "source": [
    "\"\"\"np.split\"\"\"\n",
    "arr = np.array([1, 2, 3, 4, 5, 6, 7, 8])\n",
    "result = np.split(arr, 4)\n",
    "print(result)\n",
    "result = np.array_split(arr, 5)\n",
    "print(result)\n",
    "result = np.split(arr, [3, 5])\n",
    "print(result)\n",
    "print(type(result))"
   ]
  },
  {
   "cell_type": "code",
   "execution_count": 102,
   "id": "8adbe15c",
   "metadata": {},
   "outputs": [
    {
     "name": "stdout",
     "output_type": "stream",
     "text": [
      "[array([[1, 2, 3, 4],\n",
      "       [5, 6, 7, 8]]), array([[ 9, 10, 11, 12],\n",
      "       [13, 14, 15, 16]]), array([[17, 18, 19, 20],\n",
      "       [21, 22, 23, 24]])]\n",
      "[array([[ 1,  2],\n",
      "       [ 5,  6],\n",
      "       [ 9, 10],\n",
      "       [13, 14],\n",
      "       [17, 18],\n",
      "       [21, 22]]), array([[ 3,  4],\n",
      "       [ 7,  8],\n",
      "       [11, 12],\n",
      "       [15, 16],\n",
      "       [19, 20],\n",
      "       [23, 24]])] (6, 2)\n",
      "[array([[1, 2, 3, 4]]), array([[ 5,  6,  7,  8],\n",
      "       [ 9, 10, 11, 12]]), array([[13, 14, 15, 16],\n",
      "       [17, 18, 19, 20],\n",
      "       [21, 22, 23, 24]])] (1, 4)\n",
      "[array([[ 1],\n",
      "       [ 5],\n",
      "       [ 9],\n",
      "       [13],\n",
      "       [17],\n",
      "       [21]]), array([[ 2,  3],\n",
      "       [ 6,  7],\n",
      "       [10, 11],\n",
      "       [14, 15],\n",
      "       [18, 19],\n",
      "       [22, 23]]), array([[ 4],\n",
      "       [ 8],\n",
      "       [12],\n",
      "       [16],\n",
      "       [20],\n",
      "       [24]])] (6, 1)\n"
     ]
    }
   ],
   "source": [
    "\"\"\"np.split\"\"\"\n",
    "arr = np.array([[1, 2, 3, 4],\n",
    "                [5, 6, 7, 8],\n",
    "                [9, 10, 11, 12],\n",
    "                [13, 14, 15, 16],\n",
    "                [17, 18, 19, 20],\n",
    "                [21, 22, 23, 24]])\n",
    "result = np.split(arr, 3)\n",
    "print(result)\n",
    "result = np.split(arr, 2, axis=1)\n",
    "print(result, result[0].shape)\n",
    "result = np.split(arr, [1, 3])\n",
    "print(result, result[0].shape)\n",
    "result = np.split(arr, [1, 3], axis=1)\n",
    "print(result, result[0].shape)"
   ]
  },
  {
   "cell_type": "code",
   "execution_count": 103,
   "id": "765f0210",
   "metadata": {},
   "outputs": [
    {
     "name": "stdout",
     "output_type": "stream",
     "text": [
      "Original array shape: (2, 3, 4)\n",
      "New array shape: (4, 2, 3)\n",
      "Original array shape: (2, 2, 2)\n",
      "New array shape: (2, 2, 2)\n",
      "[[[1 5]\n",
      "  [2 6]]\n",
      "\n",
      " [[3 7]\n",
      "  [4 8]]]\n"
     ]
    }
   ],
   "source": [
    "\"\"\"np.moveaxis\"\"\"\n",
    "arr = np.random.rand(2, 3, 4)\n",
    "print(\"Original array shape:\", arr.shape)\n",
    "result = np.moveaxis(arr, -1, 0)\n",
    "print(\"New array shape:\", result.shape)\n",
    "\n",
    "arr = np.array([[[1, 2], [3, 4]],\n",
    "                [[5, 6], [7, 8]]])\n",
    "print(\"Original array shape:\", arr.shape)\n",
    "# Move axis 0 to position 2\n",
    "result = np.moveaxis(arr, 0, 2)\n",
    "print(\"New array shape:\", result.shape)\n",
    "\"\"\"Take the index that used to be in position 0, and move it to the end of each element's index tuple.\"\"\"\n",
    "print(result)"
   ]
  },
  {
   "cell_type": "code",
   "execution_count": 104,
   "id": "0f4f43cb",
   "metadata": {},
   "outputs": [
    {
     "name": "stdout",
     "output_type": "stream",
     "text": [
      "Original array shape: (2, 2, 3)\n",
      "New array shape: (3, 2, 2)\n",
      "[[[ 1  7]\n",
      "  [ 4 10]]\n",
      "\n",
      " [[ 2  8]\n",
      "  [ 5 11]]\n",
      "\n",
      " [[ 3  9]\n",
      "  [ 6 12]]]\n",
      "New array shape: (2, 3, 2)\n",
      "[[[ 1  7]\n",
      "  [ 2  8]\n",
      "  [ 3  9]]\n",
      "\n",
      " [[ 4 10]\n",
      "  [ 5 11]\n",
      "  [ 6 12]]]\n",
      "New array shape: (2, 3, 2)\n",
      "[[[ 1  7]\n",
      "  [ 2  8]\n",
      "  [ 3  9]]\n",
      "\n",
      " [[ 4 10]\n",
      "  [ 5 11]\n",
      "  [ 6 12]]]\n"
     ]
    }
   ],
   "source": [
    "arr = np.array([[[1, 2, 3],\n",
    "                 [4, 5, 6]],\n",
    "                [[7, 8, 9],\n",
    "                 [10, 11, 12]]])\n",
    "print(\"Original array shape:\", arr.shape)\n",
    "# Move axes 0 and 2 to positions 2 and 0 respectively\n",
    "result_1 = np.moveaxis(arr, [0, 2], [2, 0])\n",
    "print(\"New array shape:\", result_1.shape)\n",
    "print(result_1)\n",
    "result_2 = np.moveaxis(arr, 0, 2)\n",
    "print(\"New array shape:\", result_2.shape)\n",
    "print(result_2)\n",
    "result_3 = np.moveaxis(arr, [0], [2])\n",
    "print(\"New array shape:\", result_3.shape)\n",
    "print(result_3)"
   ]
  },
  {
   "cell_type": "code",
   "execution_count": 105,
   "id": "26e28463",
   "metadata": {},
   "outputs": [
    {
     "name": "stdout",
     "output_type": "stream",
     "text": [
      "Original array shape: (2, 2, 2)\n",
      "New array shape: (2, 2, 2)\n",
      "[[[1 5]\n",
      "  [3 7]]\n",
      "\n",
      " [[2 6]\n",
      "  [4 8]]]\n",
      "New array shape: (2, 2, 2)\n",
      "[[[1 5]\n",
      "  [3 7]]\n",
      "\n",
      " [[2 6]\n",
      "  [4 8]]]\n",
      "[[[ True  True]\n",
      "  [ True  True]]\n",
      "\n",
      " [[ True  True]\n",
      "  [ True  True]]]\n"
     ]
    }
   ],
   "source": [
    "arr = np.array([[[1, 2], [3, 4]],\n",
    "                [[5, 6], [7, 8]]])\n",
    "\n",
    "print(\"Original array shape:\", arr.shape)\n",
    "\n",
    "result_1 = np.moveaxis(arr, [0, 1, 2], [2, 1, 0])\n",
    "print(\"New array shape:\", result_1.shape)\n",
    "print(result_1)\n",
    "result_2 = np.moveaxis(arr, [0, 2], [2, 0])\n",
    "print(\"New array shape:\", result_2.shape)\n",
    "print(result_2)\n",
    "\n",
    "print(result_1 == result_2)"
   ]
  },
  {
   "cell_type": "markdown",
   "id": "084e8ad4",
   "metadata": {},
   "source": [
    "#### 46. Create a structured array with `x` and `y` coordinates covering the [0,1]x[0,1] area (★★☆)"
   ]
  },
  {
   "cell_type": "code",
   "execution_count": 106,
   "id": "b8c4bf97",
   "metadata": {},
   "outputs": [],
   "source": [
    "import matplotlib.pyplot as plt"
   ]
  },
  {
   "cell_type": "code",
   "execution_count": 107,
   "id": "16be3234",
   "metadata": {},
   "outputs": [
    {
     "name": "stdout",
     "output_type": "stream",
     "text": [
      "[[1 2 3]\n",
      " [1 2 3]]\n",
      "[[4 4 4]\n",
      " [5 5 5]]\n"
     ]
    },
    {
     "data": {
      "image/png": "[encoded data removed]",
      "text/plain": [
       "<Figure size 640x480 with 1 Axes>"
      ]
     },
     "metadata": {},
     "output_type": "display_data"
    }
   ],
   "source": [
    "\"\"\"meshgrid\"\"\"\n",
    "x = np.array([1, 2, 3])\n",
    "y = np.array([4, 5])\n",
    "X, Y = np.meshgrid(x, y)\n",
    "print(X)\n",
    "print(Y)\n",
    "plt.scatter(X, Y)\n",
    "plt.show()"
   ]
  },
  {
   "cell_type": "code",
   "execution_count": 108,
   "id": "0f6121c0",
   "metadata": {},
   "outputs": [
    {
     "data": {
      "image/png": "[encoded data removed]",
      "text/plain": [
       "<Figure size 300x400 with 1 Axes>"
      ]
     },
     "metadata": {},
     "output_type": "display_data"
    }
   ],
   "source": [
    "x = np.array([0, 1])\n",
    "y = np.array([0, 1, 2])\n",
    "z = np.array([0, 1])\n",
    "X, Y, Z = np.meshgrid(x, y, z)\n",
    "fig = plt.figure(figsize=(3, 4))\n",
    "ax = fig.add_subplot(1, 1, 1, projection='3d')\n",
    "ax.scatter(X, Y, Z, c=Z.flatten(), cmap='Set1',\n",
    "           alpha=0.7, s=75, edgecolors='#808000')\n",
    "ax.set_xlabel('X axis')\n",
    "ax.set_ylabel('Y axis')\n",
    "ax.set_zlabel('Z axis', labelpad=-1)\n",
    "ax.set_title('3D Scatter Plot')\n",
    "plt.tight_layout()\n",
    "plt.show()"
   ]
  },
  {
   "cell_type": "code",
   "execution_count": 109,
   "id": "79344385",
   "metadata": {},
   "outputs": [
    {
     "name": "stdout",
     "output_type": "stream",
     "text": [
      "[[0.  0.2 0.4 0.6 0.8 1. ]\n",
      " [0.  0.2 0.4 0.6 0.8 1. ]\n",
      " [0.  0.2 0.4 0.6 0.8 1. ]\n",
      " [0.  0.2 0.4 0.6 0.8 1. ]\n",
      " [0.  0.2 0.4 0.6 0.8 1. ]\n",
      " [0.  0.2 0.4 0.6 0.8 1. ]]\n",
      "[[0.  0.  0.  0.  0.  0. ]\n",
      " [0.2 0.2 0.2 0.2 0.2 0.2]\n",
      " [0.4 0.4 0.4 0.4 0.4 0.4]\n",
      " [0.6 0.6 0.6 0.6 0.6 0.6]\n",
      " [0.8 0.8 0.8 0.8 0.8 0.8]\n",
      " [1.  1.  1.  1.  1.  1. ]]\n",
      "[[[0.  0. ]\n",
      "  [0.2 0. ]\n",
      "  [0.4 0. ]\n",
      "  [0.6 0. ]\n",
      "  [0.8 0. ]\n",
      "  [1.  0. ]]\n",
      "\n",
      " [[0.  0.2]\n",
      "  [0.2 0.2]\n",
      "  [0.4 0.2]\n",
      "  [0.6 0.2]\n",
      "  [0.8 0.2]\n",
      "  [1.  0.2]]\n",
      "\n",
      " [[0.  0.4]\n",
      "  [0.2 0.4]\n",
      "  [0.4 0.4]\n",
      "  [0.6 0.4]\n",
      "  [0.8 0.4]\n",
      "  [1.  0.4]]\n",
      "\n",
      " [[0.  0.6]\n",
      "  [0.2 0.6]\n",
      "  [0.4 0.6]\n",
      "  [0.6 0.6]\n",
      "  [0.8 0.6]\n",
      "  [1.  0.6]]\n",
      "\n",
      " [[0.  0.8]\n",
      "  [0.2 0.8]\n",
      "  [0.4 0.8]\n",
      "  [0.6 0.8]\n",
      "  [0.8 0.8]\n",
      "  [1.  0.8]]\n",
      "\n",
      " [[0.  1. ]\n",
      "  [0.2 1. ]\n",
      "  [0.4 1. ]\n",
      "  [0.6 1. ]\n",
      "  [0.8 1. ]\n",
      "  [1.  1. ]]]\n"
     ]
    }
   ],
   "source": [
    "x = np.linspace(0, 1, 6)\n",
    "y = np.linspace(0, 1, 6)\n",
    "X, Y = np.meshgrid(x, y)\n",
    "print(X)\n",
    "print(Y)\n",
    "Z = np.stack((X, Y), axis=-1)\n",
    "print(Z)"
   ]
  },
  {
   "cell_type": "code",
   "execution_count": 110,
   "id": "609af7a3",
   "metadata": {},
   "outputs": [
    {
     "data": {
      "image/png": "[encoded data removed]",
      "text/plain": [
       "<Figure size 640x480 with 1 Axes>"
      ]
     },
     "metadata": {},
     "output_type": "display_data"
    }
   ],
   "source": [
    "plt.scatter(X, Y)\n",
    "plt.show()"
   ]
  },
  {
   "cell_type": "markdown",
   "id": "d7b9bc42",
   "metadata": {},
   "source": [
    "#### 47. Given two arrays, X and Y, construct the Cauchy matrix C (Cij =1/(xi - yj)) (★★☆)"
   ]
  },
  {
   "cell_type": "code",
   "execution_count": 111,
   "id": "a24824fb",
   "metadata": {},
   "outputs": [
    {
     "name": "stdout",
     "output_type": "stream",
     "text": [
      "[1 3 9]\n",
      "[[2]\n",
      " [4]\n",
      " [6]]\n",
      "[[-1.       1.       0.14286]\n",
      " [-0.33333 -1.       0.2    ]\n",
      " [-0.2     -0.33333  0.33333]]\n"
     ]
    }
   ],
   "source": [
    "\"\"\"use broadcasting\"\"\"\n",
    "X = np.array([1, 3, 9])\n",
    "Y = np.array([2, 4, 6]).reshape(3, 1)\n",
    "cauchy_mat = 1 / (X - Y)\n",
    "print(X)\n",
    "print(Y)\n",
    "print(cauchy_mat)"
   ]
  },
  {
   "cell_type": "markdown",
   "id": "65ebc11b",
   "metadata": {},
   "source": [
    "#### 48. Print the minimum and maximum representable value for each numpy scalar type (★★☆)"
   ]
  },
  {
   "cell_type": "code",
   "execution_count": 112,
   "id": "e45d38fb",
   "metadata": {},
   "outputs": [
    {
     "name": "stdout",
     "output_type": "stream",
     "text": [
      "Machine parameters for int32\n",
      "---------------------------------------------------------------\n",
      "min = -2147483648\n",
      "max = 2147483647\n",
      "---------------------------------------------------------------\n",
      "\n",
      "Machine parameters for float64\n",
      "---------------------------------------------------------------\n",
      "precision =  15   resolution = 1.0000000000000001e-15\n",
      "machep =    -52   eps =        2.2204460492503131e-16\n",
      "negep =     -53   epsneg =     1.1102230246251565e-16\n",
      "minexp =  -1022   tiny =       2.2250738585072014e-308\n",
      "maxexp =   1024   max =        1.7976931348623157e+308\n",
      "nexp =       11   min =        -max\n",
      "smallest_normal = 2.2250738585072014e-308   smallest_subnormal = 4.9406564584124654e-324\n",
      "---------------------------------------------------------------\n",
      "\n"
     ]
    }
   ],
   "source": [
    "int_info = np.iinfo(np.int32)\n",
    "float_info = np.finfo(np.float64)\n",
    "print(int_info)\n",
    "print(float_info)"
   ]
  },
  {
   "cell_type": "code",
   "execution_count": 113,
   "id": "313a325f",
   "metadata": {},
   "outputs": [
    {
     "name": "stdout",
     "output_type": "stream",
     "text": [
      "2.220446049250313e-16\n",
      "1.1920929e-07\n"
     ]
    }
   ],
   "source": [
    "epsilon_f64 = np.finfo(np.float64).eps\n",
    "epsilon_f32 = np.finfo(np.float32).eps\n",
    "print(epsilon_f64)\n",
    "print(epsilon_f32)"
   ]
  },
  {
   "cell_type": "markdown",
   "id": "9b317a98",
   "metadata": {},
   "source": [
    "#### 49. How to print all the values of an array? (★★☆)"
   ]
  },
  {
   "cell_type": "markdown",
   "id": "b580f9d0",
   "metadata": {},
   "source": [
    "#### 50. How to find the closest value (to a given scalar) in a vector? (★★☆)"
   ]
  },
  {
   "cell_type": "code",
   "execution_count": 114,
   "id": "57260cd5",
   "metadata": {},
   "outputs": [],
   "source": [
    "def diff(arr: np.ndarray, target: int) -> int:\n",
    "    diff_arr = abs(arr - target)\n",
    "    min_idx = np.argmin(diff_arr)\n",
    "    return min_idx"
   ]
  },
  {
   "cell_type": "code",
   "execution_count": 115,
   "id": "ebfb6714",
   "metadata": {},
   "outputs": [
    {
     "name": "stdout",
     "output_type": "stream",
     "text": [
      "[2.47301 1.14042 1.27737 1.98165 1.88658 4.98287 2.04099 3.85947 3.80268\n",
      " 1.55005 1.73271 1.75882 0.72733 4.86332 4.54589 2.79979 1.56795 4.441\n",
      " 3.37287 1.95544]\n",
      "15 2.799785518610625\n"
     ]
    }
   ],
   "source": [
    "np.random.seed(50)\n",
    "rand_arr = np.random.uniform(0, 5, 20)\n",
    "target = 3\n",
    "idx = diff(rand_arr, target)\n",
    "print(rand_arr)\n",
    "print(idx, rand_arr[idx])"
   ]
  },
  {
   "cell_type": "markdown",
   "id": "602e6252",
   "metadata": {},
   "source": [
    "#### 51. Create a structured array representing a position (x,y) and a color (r,g,b) (★★☆)"
   ]
  },
  {
   "cell_type": "code",
   "execution_count": null,
   "id": "cf002b3a",
   "metadata": {},
   "outputs": [],
   "source": []
  },
  {
   "cell_type": "markdown",
   "id": "78bcd92f",
   "metadata": {},
   "source": [
    "#### 52. Consider a random vector with shape (100,2) representing coordinates, find point by point distances (★★☆)"
   ]
  },
  {
   "cell_type": "code",
   "execution_count": null,
   "id": "fea7f9a6",
   "metadata": {},
   "outputs": [],
   "source": []
  },
  {
   "cell_type": "markdown",
   "id": "343c5a85",
   "metadata": {},
   "source": [
    "#### 53. How to convert a float (32 bits) array into an integer (32 bits) in place?"
   ]
  },
  {
   "cell_type": "code",
   "execution_count": null,
   "id": "fc1b687b",
   "metadata": {},
   "outputs": [],
   "source": []
  },
  {
   "cell_type": "markdown",
   "id": "a69e1ace",
   "metadata": {},
   "source": [
    "#### 54. How to read the following file? (★★☆)\n",
    "```\n",
    "1, 2, 3, 4, 5\n",
    "6,  ,  , 7, 8\n",
    " ,  , 9,10,11\n",
    "```"
   ]
  },
  {
   "cell_type": "code",
   "execution_count": null,
   "id": "1c7957d4",
   "metadata": {},
   "outputs": [],
   "source": []
  },
  {
   "cell_type": "markdown",
   "id": "c23bd80d",
   "metadata": {},
   "source": [
    "#### 55. What is the equivalent of enumerate for numpy arrays? (★★☆)"
   ]
  },
  {
   "cell_type": "code",
   "execution_count": null,
   "id": "d95d9578",
   "metadata": {},
   "outputs": [],
   "source": []
  },
  {
   "cell_type": "markdown",
   "id": "2153a5ec",
   "metadata": {},
   "source": [
    "#### 56. Generate a generic 2D Gaussian-like array (★★☆)"
   ]
  },
  {
   "cell_type": "code",
   "execution_count": null,
   "id": "61122d1e",
   "metadata": {},
   "outputs": [],
   "source": []
  },
  {
   "cell_type": "markdown",
   "id": "2e76d589",
   "metadata": {},
   "source": [
    "#### 57. How to randomly place p elements in a 2D array? (★★☆)"
   ]
  },
  {
   "cell_type": "code",
   "execution_count": null,
   "id": "0c2e4fcc",
   "metadata": {},
   "outputs": [],
   "source": []
  },
  {
   "cell_type": "markdown",
   "id": "8b3933eb",
   "metadata": {},
   "source": [
    "#### 58. Subtract the mean of each row of a matrix (★★☆)"
   ]
  },
  {
   "cell_type": "code",
   "execution_count": null,
   "id": "a306c9ef",
   "metadata": {},
   "outputs": [],
   "source": []
  },
  {
   "cell_type": "markdown",
   "id": "ea8807c0",
   "metadata": {},
   "source": [
    "#### 59. How to sort an array by the nth column? (★★☆)"
   ]
  },
  {
   "cell_type": "code",
   "execution_count": null,
   "id": "cc89a699",
   "metadata": {},
   "outputs": [],
   "source": []
  },
  {
   "cell_type": "markdown",
   "id": "00fa00a1",
   "metadata": {},
   "source": [
    "#### 60. How to tell if a given 2D array has null columns? (★★☆)"
   ]
  },
  {
   "cell_type": "code",
   "execution_count": null,
   "id": "3436e165",
   "metadata": {},
   "outputs": [],
   "source": []
  },
  {
   "cell_type": "markdown",
   "id": "5a65c7a2",
   "metadata": {},
   "source": [
    "#### 61. Find the nearest value from a given value in an array (★★☆)"
   ]
  },
  {
   "cell_type": "code",
   "execution_count": null,
   "id": "73f149d6",
   "metadata": {},
   "outputs": [],
   "source": []
  },
  {
   "cell_type": "markdown",
   "id": "dd83e8af",
   "metadata": {},
   "source": [
    "#### 62. Considering two arrays with shape (1,3) and (3,1), how to compute their sum using an iterator? (★★☆)"
   ]
  },
  {
   "cell_type": "code",
   "execution_count": null,
   "id": "29a709a1",
   "metadata": {},
   "outputs": [],
   "source": []
  },
  {
   "cell_type": "markdown",
   "id": "6c042efa",
   "metadata": {},
   "source": [
    "#### 63. Create an array class that has a name attribute (★★☆)"
   ]
  },
  {
   "cell_type": "code",
   "execution_count": null,
   "id": "45b3d2e0",
   "metadata": {},
   "outputs": [],
   "source": []
  },
  {
   "cell_type": "markdown",
   "id": "0a075c3d",
   "metadata": {},
   "source": [
    "#### 64. Consider a given vector, how to add 1 to each element indexed by a second vector (be careful with repeated indices)? (★★★)"
   ]
  },
  {
   "cell_type": "code",
   "execution_count": null,
   "id": "36c50470",
   "metadata": {},
   "outputs": [],
   "source": []
  },
  {
   "cell_type": "markdown",
   "id": "0fb2f0c5",
   "metadata": {},
   "source": [
    "#### 65. How to accumulate elements of a vector (X) to an array (F) based on an index list (I)? (★★★)"
   ]
  },
  {
   "cell_type": "code",
   "execution_count": null,
   "id": "58aa5f82",
   "metadata": {},
   "outputs": [],
   "source": []
  },
  {
   "cell_type": "markdown",
   "id": "d89dc506",
   "metadata": {},
   "source": [
    "#### 66. Considering a (w,h,3) image of (dtype=ubyte), compute the number of unique colors (★★☆)"
   ]
  },
  {
   "cell_type": "code",
   "execution_count": null,
   "id": "8fb43a49",
   "metadata": {},
   "outputs": [],
   "source": []
  },
  {
   "cell_type": "markdown",
   "id": "535a5d81",
   "metadata": {},
   "source": [
    "#### 67. Considering a four dimensions array, how to get sum over the last two axis at once? (★★★)"
   ]
  },
  {
   "cell_type": "code",
   "execution_count": null,
   "id": "f954ab9d",
   "metadata": {},
   "outputs": [],
   "source": []
  },
  {
   "cell_type": "markdown",
   "id": "eee66d3c",
   "metadata": {},
   "source": [
    "#### 68. Considering a one-dimensional vector D, how to compute means of subsets of D using a vector S of same size describing subset  indices? (★★★)"
   ]
  },
  {
   "cell_type": "code",
   "execution_count": null,
   "id": "8929773a",
   "metadata": {},
   "outputs": [],
   "source": []
  },
  {
   "cell_type": "markdown",
   "id": "f90d4c40",
   "metadata": {},
   "source": [
    "#### 69. How to get the diagonal of a dot product? (★★★)"
   ]
  },
  {
   "cell_type": "code",
   "execution_count": null,
   "id": "b47d392d",
   "metadata": {},
   "outputs": [],
   "source": []
  },
  {
   "cell_type": "markdown",
   "id": "a8a97e7d",
   "metadata": {},
   "source": [
    "#### 70. Consider the vector [1, 2, 3, 4, 5], how to build a new vector with 3 consecutive zeros interleaved between each value? (★★★)"
   ]
  },
  {
   "cell_type": "code",
   "execution_count": null,
   "id": "ee6c6c37",
   "metadata": {},
   "outputs": [],
   "source": []
  },
  {
   "cell_type": "markdown",
   "id": "d6a30d60",
   "metadata": {},
   "source": [
    "#### 71. Consider an array of dimension (5,5,3), how to mulitply it by an array with dimensions (5,5)? (★★★)"
   ]
  },
  {
   "cell_type": "code",
   "execution_count": null,
   "id": "e9703f2e",
   "metadata": {},
   "outputs": [],
   "source": []
  },
  {
   "cell_type": "markdown",
   "id": "bac359a9",
   "metadata": {},
   "source": [
    "#### 72. How to swap two rows of an array? (★★★)"
   ]
  },
  {
   "cell_type": "code",
   "execution_count": null,
   "id": "f1b432b1",
   "metadata": {},
   "outputs": [],
   "source": []
  },
  {
   "cell_type": "markdown",
   "id": "620c9f83",
   "metadata": {},
   "source": [
    "#### 73. Consider a set of 10 triplets describing 10 triangles (with shared vertices), find the set of unique line segments composing all the  triangles (★★★)"
   ]
  },
  {
   "cell_type": "code",
   "execution_count": null,
   "id": "4e595ffc",
   "metadata": {},
   "outputs": [],
   "source": []
  },
  {
   "cell_type": "markdown",
   "id": "a76c55a2",
   "metadata": {},
   "source": [
    "#### 74. Given a sorted array C that corresponds to a bincount, how to produce an array A such that np.bincount(A) == C? (★★★)"
   ]
  },
  {
   "cell_type": "code",
   "execution_count": null,
   "id": "2d2ae65a",
   "metadata": {},
   "outputs": [],
   "source": []
  },
  {
   "cell_type": "markdown",
   "id": "d550c8e2",
   "metadata": {},
   "source": [
    "#### 75. How to compute averages using a sliding window over an array? (★★★)"
   ]
  },
  {
   "cell_type": "code",
   "execution_count": null,
   "id": "841c457c",
   "metadata": {},
   "outputs": [],
   "source": []
  },
  {
   "cell_type": "markdown",
   "id": "6b170b00",
   "metadata": {},
   "source": [
    "#### 76. Consider a one-dimensional array Z, build a two-dimensional array whose first row is (Z[0],Z[1],Z[2]) and each subsequent row is  shifted by 1 (last row should be (Z[-3],Z[-2],Z[-1]) (★★★)"
   ]
  },
  {
   "cell_type": "code",
   "execution_count": null,
   "id": "d9a0cf4e",
   "metadata": {},
   "outputs": [],
   "source": []
  },
  {
   "cell_type": "markdown",
   "id": "e94a5c1d",
   "metadata": {},
   "source": [
    "#### 77. How to negate a boolean, or to change the sign of a float inplace? (★★★)"
   ]
  },
  {
   "cell_type": "code",
   "execution_count": null,
   "id": "c0f9504f",
   "metadata": {},
   "outputs": [],
   "source": []
  },
  {
   "cell_type": "markdown",
   "id": "4eb8b5c1",
   "metadata": {},
   "source": [
    "#### 78. Consider 2 sets of points P0,P1 describing lines (2d) and a point p, how to compute distance from p to each line i (P0[i],P1[i])? (★★★)"
   ]
  },
  {
   "cell_type": "code",
   "execution_count": null,
   "id": "487f47ec",
   "metadata": {},
   "outputs": [],
   "source": []
  },
  {
   "cell_type": "markdown",
   "id": "3df99948",
   "metadata": {},
   "source": [
    "#### 79. Consider 2 sets of points P0,P1 describing lines (2d) and a set of points P, how to compute distance from each point j (P[j]) to each line i (P0[i],P1[i])? (★★★)"
   ]
  },
  {
   "cell_type": "code",
   "execution_count": null,
   "id": "dc2df37b",
   "metadata": {},
   "outputs": [],
   "source": []
  },
  {
   "cell_type": "markdown",
   "id": "11e972c2",
   "metadata": {},
   "source": [
    "#### 80. Consider an arbitrary array, write a function that extract a subpart with a fixed shape and centered on a given element (pad with a `fill` value when necessary) (★★★)"
   ]
  },
  {
   "cell_type": "code",
   "execution_count": null,
   "id": "0291247f",
   "metadata": {},
   "outputs": [],
   "source": []
  },
  {
   "cell_type": "markdown",
   "id": "93cfeab3",
   "metadata": {},
   "source": [
    "#### 81. Consider an array Z = [1,2,3,4,5,6,7,8,9,10,11,12,13,14], how to generate an array R = [[1,2,3,4], [2,3,4,5], [3,4,5,6], ..., [11,12,13,14]]? (★★★)"
   ]
  },
  {
   "cell_type": "code",
   "execution_count": null,
   "id": "360de791",
   "metadata": {},
   "outputs": [],
   "source": []
  },
  {
   "cell_type": "markdown",
   "id": "4c15ceff",
   "metadata": {},
   "source": [
    "#### 82. Compute a matrix rank (★★★)"
   ]
  },
  {
   "cell_type": "code",
   "execution_count": null,
   "id": "9a4272d2",
   "metadata": {},
   "outputs": [],
   "source": []
  },
  {
   "cell_type": "markdown",
   "id": "1171cb84",
   "metadata": {},
   "source": [
    "#### 83. How to find the most frequent value in an array?"
   ]
  },
  {
   "cell_type": "code",
   "execution_count": null,
   "id": "33e951c8",
   "metadata": {},
   "outputs": [],
   "source": []
  },
  {
   "cell_type": "markdown",
   "id": "04f472aa",
   "metadata": {},
   "source": [
    "#### 84. Extract all the contiguous 3x3 blocks from a random 10x10 matrix (★★★)"
   ]
  },
  {
   "cell_type": "code",
   "execution_count": null,
   "id": "7aade14a",
   "metadata": {},
   "outputs": [],
   "source": []
  },
  {
   "cell_type": "markdown",
   "id": "52836346",
   "metadata": {},
   "source": [
    "#### 85. Create a 2D array subclass such that Z[i,j] == Z[j,i] (★★★)"
   ]
  },
  {
   "cell_type": "code",
   "execution_count": null,
   "id": "4df70318",
   "metadata": {},
   "outputs": [],
   "source": []
  },
  {
   "cell_type": "markdown",
   "id": "78c43ee5",
   "metadata": {},
   "source": [
    "#### 86. Consider a set of p matrices with shape (n,n) and a set of p vectors with shape (n,1). How to compute the sum of of the p matrix products at once? (result has shape (n,1)) (★★★)"
   ]
  },
  {
   "cell_type": "code",
   "execution_count": null,
   "id": "32fd2c3b",
   "metadata": {},
   "outputs": [],
   "source": []
  },
  {
   "cell_type": "markdown",
   "id": "158f9945",
   "metadata": {},
   "source": [
    "#### 87. Consider a 16x16 array, how to get the block-sum (block size is 4x4)? (★★★)"
   ]
  },
  {
   "cell_type": "code",
   "execution_count": null,
   "id": "5a9b808f",
   "metadata": {},
   "outputs": [],
   "source": []
  },
  {
   "cell_type": "markdown",
   "id": "2e0ad860",
   "metadata": {},
   "source": [
    "#### 88. How to implement the Game of Life using numpy arrays? (★★★)"
   ]
  },
  {
   "cell_type": "code",
   "execution_count": null,
   "id": "574acff5",
   "metadata": {},
   "outputs": [],
   "source": []
  },
  {
   "cell_type": "markdown",
   "id": "69a892fa",
   "metadata": {},
   "source": [
    "#### 89. How to get the n largest values of an array (★★★)"
   ]
  },
  {
   "cell_type": "code",
   "execution_count": null,
   "id": "21b2bd48",
   "metadata": {},
   "outputs": [],
   "source": []
  },
  {
   "cell_type": "markdown",
   "id": "b55ccacc",
   "metadata": {},
   "source": [
    "#### 90. Given an arbitrary number of vectors, build the cartesian product (every combinations of every item) (★★★)"
   ]
  },
  {
   "cell_type": "code",
   "execution_count": null,
   "id": "4b645da4",
   "metadata": {},
   "outputs": [],
   "source": []
  },
  {
   "cell_type": "markdown",
   "id": "89187a23",
   "metadata": {},
   "source": [
    "#### 91. How to create a record array from a regular array? (★★★)"
   ]
  },
  {
   "cell_type": "code",
   "execution_count": null,
   "id": "da94c71a",
   "metadata": {},
   "outputs": [],
   "source": []
  },
  {
   "cell_type": "markdown",
   "id": "aa70d4ca",
   "metadata": {},
   "source": [
    "#### 92. Consider a large vector Z, compute Z to the power of 3 using 3 different methods (★★★)"
   ]
  },
  {
   "cell_type": "code",
   "execution_count": null,
   "id": "7cff1bf5",
   "metadata": {},
   "outputs": [],
   "source": []
  },
  {
   "cell_type": "markdown",
   "id": "5f79dd00",
   "metadata": {},
   "source": [
    "#### 93. Consider two arrays A and B of shape (8,3) and (2,2). How to find rows of A that contain elements of each row of B regardless of the order of the elements in B? (★★★)"
   ]
  },
  {
   "cell_type": "code",
   "execution_count": null,
   "id": "20c105b2",
   "metadata": {},
   "outputs": [],
   "source": []
  },
  {
   "cell_type": "markdown",
   "id": "a80570cd",
   "metadata": {},
   "source": [
    "#### 94. Considering a 10x3 matrix, extract rows with unequal values (e.g. [2,2,3]) (★★★)"
   ]
  },
  {
   "cell_type": "code",
   "execution_count": null,
   "id": "84db8de1",
   "metadata": {},
   "outputs": [],
   "source": []
  },
  {
   "cell_type": "markdown",
   "id": "ba154f43",
   "metadata": {},
   "source": [
    "#### 95. Convert a vector of ints into a matrix binary representation (★★★)"
   ]
  },
  {
   "cell_type": "code",
   "execution_count": null,
   "id": "cfa96e1b",
   "metadata": {},
   "outputs": [],
   "source": []
  },
  {
   "cell_type": "markdown",
   "id": "420e2343",
   "metadata": {},
   "source": [
    "#### 96. Given a two dimensional array, how to extract unique rows? (★★★)"
   ]
  },
  {
   "cell_type": "code",
   "execution_count": null,
   "id": "4680dfd0",
   "metadata": {},
   "outputs": [],
   "source": []
  },
  {
   "cell_type": "markdown",
   "id": "89fef2f3",
   "metadata": {},
   "source": [
    "#### 97. Considering 2 vectors A & B, write the einsum equivalent of inner, outer, sum, and mul function (★★★)"
   ]
  },
  {
   "cell_type": "code",
   "execution_count": null,
   "id": "bb9c14b2",
   "metadata": {},
   "outputs": [],
   "source": []
  },
  {
   "cell_type": "markdown",
   "id": "7ad5cc5f",
   "metadata": {},
   "source": [
    "#### 98. Considering a path described by two vectors (X,Y), how to sample it using equidistant samples (★★★)?"
   ]
  },
  {
   "cell_type": "code",
   "execution_count": null,
   "id": "0899d1d5",
   "metadata": {},
   "outputs": [],
   "source": []
  },
  {
   "cell_type": "markdown",
   "id": "2b69272e",
   "metadata": {},
   "source": [
    "#### 99. Given an integer n and a 2D array X, select from X the rows which can be interpreted as draws from a multinomial distribution with n degrees, i.e., the rows which only contain integers and which sum to n. (★★★)"
   ]
  },
  {
   "cell_type": "code",
   "execution_count": null,
   "id": "55c8b034",
   "metadata": {},
   "outputs": [],
   "source": []
  },
  {
   "cell_type": "markdown",
   "id": "59ab5516",
   "metadata": {},
   "source": [
    "#### 100. Compute bootstrapped 95% confidence intervals for the mean of a 1D array X (i.e., resample the elements of an array with replacement N times, compute the mean of each sample, and then compute percentiles over the means). (★★★)"
   ]
  },
  {
   "cell_type": "code",
   "execution_count": null,
   "id": "450877d8",
   "metadata": {},
   "outputs": [],
   "source": []
  }
 ],
 "metadata": {
  "kernelspec": {
   "display_name": "pydata-book",
   "language": "python",
   "name": "python3"
  },
  "language_info": {
   "codemirror_mode": {
    "name": "ipython",
    "version": 3
   },
   "file_extension": ".py",
   "mimetype": "text/x-python",
   "name": "python",
   "nbconvert_exporter": "python",
   "pygments_lexer": "ipython3",
   "version": "3.10.14"
  }
 },
 "nbformat": 4,
 "nbformat_minor": 5
}
